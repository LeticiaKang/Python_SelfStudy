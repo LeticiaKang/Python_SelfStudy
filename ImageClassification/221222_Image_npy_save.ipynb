{
 "cells": [
  {
   "cell_type": "code",
   "execution_count": 4,
   "metadata": {},
   "outputs": [],
   "source": [
    "import glob\n",
    "from PIL import Image\n",
    "import numpy as np\n",
    "from sklearn.model_selection import train_test_split"
   ]
  },
  {
   "cell_type": "code",
   "execution_count": 5,
   "metadata": {},
   "outputs": [
    {
     "name": "stdout",
     "output_type": "stream",
     "text": [
      "channel  파일 길이 :  330\n",
      "gucci  파일 길이 :  330\n",
      "ok 660\n"
     ]
    }
   ],
   "source": [
    "\n",
    "groups_folder_path = 'C:\\Self_Study\\PythonStudy\\ImageClassification\\image_data\\collection'\n",
    "categories = [\"channel\",\"gucci\"]\n",
    "nb_classes = len(categories) #카테고리갯수: 4개\n",
    "\n",
    "image_w = 224 #이미지의 크기를 모두 통일해준다\n",
    "image_h = 224\n",
    "\n",
    "\n",
    "X = []\n",
    "y = []\n",
    "for idx, cate in enumerate(categories):\n",
    "    \n",
    "    #one-hot 돌리기.\n",
    "    label = [0 for i in range(nb_classes)] #one-hot으로 라벨을 붙혀줌\n",
    "    label[idx] = 1\n",
    "\n",
    "    image_dir = groups_folder_path + \"/\" + cate\n",
    "    \n",
    "    files = glob.glob(image_dir+\"/*.jpg\")\n",
    "    print(cate, \" 파일 길이 : \", len(files))\n",
    "    for i, f in enumerate(files):\n",
    "        img = Image.open(f)      #폴더를 열어주고 이미지를 읽음\n",
    "        img = img.convert(\"RGB\")   #RGB로 바꿈\n",
    "        img = img.resize((image_w, image_h)) #이미지 크기를 모두 학습시키기 쉽게 64x64크기고\n",
    "       #  min_or = img.min()\n",
    "        # max_or = img.max()\n",
    "        # data = ((img - min_or) / (max_or - min_or) * 255.).astype(np.uint8)  # change type\n",
    "        \n",
    "        data = np.asarray(img) #숫자로\n",
    "\n",
    "        X.append(data) #리스트에 추가 \n",
    "        y.append(label)\n",
    "\n",
    "\n",
    "X = np.array(X)\n",
    "y = np.array(y)\n",
    "#1 0 0 0 이면 느타리버섯\n",
    "#0 1 0 0 이면 새송이버섯\n",
    "\n",
    "X_train, X_test, y_train, y_test = train_test_split(X, y) #데이터를 훈련셋과 시험셋으로 나눠주는 함수이용\n",
    "\n",
    "np.save(\"target_images.npy\", X_train )\n",
    "np.save(\"target_labels.npy\", y_train)\n",
    "np.save(\"test_images.npy\", X_test)\n",
    "np.save(\"test_labels.npy\", y_test)\n",
    "\n",
    "print(\"ok\", len(y))"
   ]
  },
  {
   "cell_type": "code",
   "execution_count": 23,
   "metadata": {},
   "outputs": [
    {
     "data": {
      "text/plain": [
       "array([1, 0])"
      ]
     },
     "execution_count": 23,
     "metadata": {},
     "output_type": "execute_result"
    }
   ],
   "source": [
    "X[0].shape\n",
    "y[0]"
   ]
  },
  {
   "cell_type": "code",
   "execution_count": null,
   "metadata": {},
   "outputs": [],
   "source": []
  },
  {
   "cell_type": "code",
   "execution_count": null,
   "metadata": {},
   "outputs": [],
   "source": []
  },
  {
   "cell_type": "code",
   "execution_count": null,
   "metadata": {},
   "outputs": [],
   "source": []
  },
  {
   "cell_type": "code",
   "execution_count": null,
   "metadata": {},
   "outputs": [],
   "source": []
  },
  {
   "cell_type": "code",
   "execution_count": null,
   "metadata": {},
   "outputs": [],
   "source": []
  },
  {
   "cell_type": "code",
   "execution_count": null,
   "metadata": {},
   "outputs": [],
   "source": []
  },
  {
   "cell_type": "code",
   "execution_count": null,
   "metadata": {},
   "outputs": [],
   "source": []
  },
  {
   "cell_type": "code",
   "execution_count": null,
   "metadata": {},
   "outputs": [],
   "source": []
  },
  {
   "cell_type": "code",
   "execution_count": null,
   "metadata": {},
   "outputs": [],
   "source": []
  }
 ],
 "metadata": {
  "kernelspec": {
   "display_name": "mojimoji",
   "language": "python",
   "name": "mojimoji"
  },
  "language_info": {
   "codemirror_mode": {
    "name": "ipython",
    "version": 3
   },
   "file_extension": ".py",
   "mimetype": "text/x-python",
   "name": "python",
   "nbconvert_exporter": "python",
   "pygments_lexer": "ipython3",
   "version": "3.8.0 (default, Nov  6 2019, 16:00:02) [MSC v.1916 64 bit (AMD64)]"
  },
  "orig_nbformat": 4,
  "vscode": {
   "interpreter": {
    "hash": "47ab93e400349285149e7bba82ca82d69423af9d0007c246d5e4db496e36f9dc"
   }
  }
 },
 "nbformat": 4,
 "nbformat_minor": 2
}
