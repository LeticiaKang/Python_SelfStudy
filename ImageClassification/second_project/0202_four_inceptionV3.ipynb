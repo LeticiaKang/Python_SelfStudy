{
 "cells": [
  {
   "cell_type": "code",
   "execution_count": 4,
   "metadata": {},
   "outputs": [
    {
     "name": "stderr",
     "output_type": "stream",
     "text": [
      "fatal: destination path 'models' already exists and is not an empty directory.\n"
     ]
    },
    {
     "name": "stderr",
     "output_type": "stream",
     "text": [
      "Cloning into 'models'...\n",
      "Updating files:  60% (2015/3324)\n",
      "Updating files:  61% (2028/3324)\n",
      "Updating files:  62% (2061/3324)\n",
      "Updating files:  63% (2095/3324)\n",
      "Updating files:  64% (2128/3324)\n",
      "Updating files:  65% (2161/3324)\n",
      "Updating files:  66% (2194/3324)\n",
      "Updating files:  67% (2228/3324)\n",
      "Updating files:  68% (2261/3324)\n",
      "Updating files:  69% (2294/3324)\n",
      "Updating files:  70% (2327/3324)\n",
      "Updating files:  71% (2361/3324)\n",
      "Updating files:  72% (2394/3324)\n",
      "Updating files:  73% (2427/3324)\n",
      "Updating files:  74% (2460/3324)\n",
      "Updating files:  75% (2493/3324)\n",
      "Updating files:  76% (2527/3324)\n",
      "Updating files:  77% (2560/3324)\n",
      "Updating files:  78% (2593/3324)\n",
      "Updating files:  79% (2626/3324)\n",
      "Updating files:  80% (2660/3324)\n",
      "Updating files:  81% (2693/3324)\n",
      "Updating files:  82% (2726/3324)\n",
      "Updating files:  83% (2759/3324)\n",
      "Updating files:  84% (2793/3324)\n",
      "Updating files:  85% (2826/3324)\n",
      "Updating files:  86% (2859/3324)\n",
      "Updating files:  87% (2892/3324)\n",
      "Updating files:  88% (2926/3324)\n",
      "Updating files:  89% (2959/3324)\n",
      "Updating files:  90% (2992/3324)\n",
      "Updating files:  91% (3025/3324)\n",
      "Updating files:  92% (3059/3324)\n",
      "Updating files:  93% (3092/3324)\n",
      "Updating files:  94% (3125/3324)\n",
      "Updating files:  95% (3158/3324)\n",
      "Updating files:  96% (3192/3324)\n",
      "Updating files:  97% (3225/3324)\n",
      "Updating files:  98% (3258/3324)\n",
      "Updating files:  99% (3291/3324)\n",
      "Updating files: 100% (3324/3324)\n",
      "Updating files: 100% (3324/3324), done.\n"
     ]
    }
   ],
   "source": [
    "!git clone https://github.com/tensorflow/models.git\n",
    "!cd models"
   ]
  },
  {
   "cell_type": "code",
   "execution_count": 7,
   "metadata": {},
   "outputs": [
    {
     "ename": "ModuleNotFoundError",
     "evalue": "No module named 'inception'",
     "output_type": "error",
     "traceback": [
      "\u001b[1;31m---------------------------------------------------------------------------\u001b[0m",
      "\u001b[1;31mModuleNotFoundError\u001b[0m                       Traceback (most recent call last)",
      "Cell \u001b[1;32mIn [7], line 4\u001b[0m\n\u001b[0;32m      1\u001b[0m \u001b[39mimport\u001b[39;00m \u001b[39mtensorflow\u001b[39;00m \u001b[39mas\u001b[39;00m \u001b[39mtf\u001b[39;00m\n\u001b[0;32m      2\u001b[0m \u001b[39mimport\u001b[39;00m \u001b[39mnumpy\u001b[39;00m \u001b[39mas\u001b[39;00m \u001b[39mnp\u001b[39;00m\n\u001b[1;32m----> 4\u001b[0m \u001b[39mfrom\u001b[39;00m \u001b[39minception\u001b[39;00m\u001b[39m.\u001b[39;00m\u001b[39mdata\u001b[39;00m \u001b[39mimport\u001b[39;00m build_image_data\n\u001b[0;32m      5\u001b[0m \u001b[39mfrom\u001b[39;00m \u001b[39minception\u001b[39;00m \u001b[39mimport\u001b[39;00m image_processing\n\u001b[0;32m      6\u001b[0m \u001b[39mfrom\u001b[39;00m \u001b[39minception\u001b[39;00m \u001b[39mimport\u001b[39;00m inception_model \u001b[39mas\u001b[39;00m inception\n",
      "\u001b[1;31mModuleNotFoundError\u001b[0m: No module named 'inception'"
     ]
    }
   ],
   "source": [
    "import tensorflow as tf\n",
    "import numpy as np\n",
    "\n",
    "from inception.data import build_image_data\n",
    "from inception import image_processing\n",
    "from inception import inception_model as inception\n",
    "from os import listdir\n",
    "from os.path import isfile, join"
   ]
  },
  {
   "cell_type": "code",
   "execution_count": 9,
   "metadata": {},
   "outputs": [
    {
     "name": "stdout",
     "output_type": "stream",
     "text": [
      "Collecting inception\n",
      "  Using cached inception-0.0.3.tar.gz (6.8 kB)\n",
      "  Preparing metadata (setup.py): started\n",
      "  Preparing metadata (setup.py): finished with status 'error'\n"
     ]
    },
    {
     "name": "stderr",
     "output_type": "stream",
     "text": [
      "  error: subprocess-exited-with-error\n",
      "  \n",
      "  × python setup.py egg_info did not run successfully.\n",
      "  │ exit code: 1\n",
      "  ╰─> [8 lines of output]\n",
      "      Traceback (most recent call last):\n",
      "        File \"<string>\", line 2, in <module>\n",
      "        File \"<pip-setuptools-caller>\", line 34, in <module>\n",
      "        File \"C:\\Users\\user\\AppData\\Local\\Temp\\pip-install-t078d_13\\inception_06db16eb8f374964b191471c77257350\\setup.py\", line 39, in <module>\n",
      "          long_description=read_description(),\n",
      "        File \"C:\\Users\\user\\AppData\\Local\\Temp\\pip-install-t078d_13\\inception_06db16eb8f374964b191471c77257350\\setup.py\", line 12, in read_description\n",
      "          return fd.read()\n",
      "      UnicodeDecodeError: 'cp949' codec can't decode byte 0xe2 in position 3259: illegal multibyte sequence\n",
      "      [end of output]\n",
      "  \n",
      "  note: This error originates from a subprocess, and is likely not a problem with pip.\n",
      "error: metadata-generation-failed\n",
      "\n",
      "× Encountered error while generating package metadata.\n",
      "╰─> See above for output.\n",
      "\n",
      "note: This is an issue with the package mentioned above, not pip.\n",
      "hint: See above for details.\n"
     ]
    }
   ],
   "source": [
    "!pip install inception"
   ]
  },
  {
   "cell_type": "markdown",
   "metadata": {},
   "source": []
  },
  {
   "cell_type": "code",
   "execution_count": null,
   "metadata": {},
   "outputs": [],
   "source": []
  },
  {
   "cell_type": "code",
   "execution_count": null,
   "metadata": {},
   "outputs": [],
   "source": []
  },
  {
   "cell_type": "code",
   "execution_count": null,
   "metadata": {},
   "outputs": [],
   "source": []
  },
  {
   "cell_type": "code",
   "execution_count": null,
   "metadata": {},
   "outputs": [],
   "source": []
  },
  {
   "cell_type": "code",
   "execution_count": null,
   "metadata": {},
   "outputs": [],
   "source": []
  },
  {
   "cell_type": "code",
   "execution_count": null,
   "metadata": {},
   "outputs": [],
   "source": []
  },
  {
   "cell_type": "code",
   "execution_count": null,
   "metadata": {},
   "outputs": [],
   "source": []
  },
  {
   "cell_type": "code",
   "execution_count": null,
   "metadata": {},
   "outputs": [],
   "source": []
  },
  {
   "cell_type": "code",
   "execution_count": null,
   "metadata": {},
   "outputs": [],
   "source": []
  },
  {
   "cell_type": "code",
   "execution_count": null,
   "metadata": {},
   "outputs": [],
   "source": []
  },
  {
   "cell_type": "code",
   "execution_count": null,
   "metadata": {},
   "outputs": [],
   "source": []
  }
 ],
 "metadata": {
  "kernelspec": {
   "display_name": "tensorflow2",
   "language": "python",
   "name": "python3"
  },
  "language_info": {
   "codemirror_mode": {
    "name": "ipython",
    "version": 3
   },
   "file_extension": ".py",
   "mimetype": "text/x-python",
   "name": "python",
   "nbconvert_exporter": "python",
   "pygments_lexer": "ipython3",
   "version": "3.8.15"
  },
  "orig_nbformat": 4,
  "vscode": {
   "interpreter": {
    "hash": "47ab93e400349285149e7bba82ca82d69423af9d0007c246d5e4db496e36f9dc"
   }
  }
 },
 "nbformat": 4,
 "nbformat_minor": 2
}
