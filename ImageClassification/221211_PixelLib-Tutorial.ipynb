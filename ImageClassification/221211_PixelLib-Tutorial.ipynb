{
 "cells": [
  {
   "cell_type": "markdown",
   "metadata": {},
   "source": [
    " 가상환경 설정 방법 :   \n",
    " https://cocoder16.tistory.com/68  \n",
    " https://3months.tistory.com/553  \n",
    " https://velog.io/@dudrkdl777/Tip%EC%95%84%EB%82%98%EC%BD%98%EB%8B%A4-%ED%8C%8C%EC%9D%B4%EC%8D%AC-%EB%B2%84%EC%A0%84-%EB%B3%80%EA%B2%BD%ED%95%98%EA%B8%B0 #파이썬 버전 변경`"
   ]
  },
  {
   "cell_type": "markdown",
   "metadata": {},
   "source": [
    "### 1. Install and Import Dependencies"
   ]
  },
  {
   "attachments": {},
   "cell_type": "markdown",
   "metadata": {},
   "source": [
    "모델 다운로드\n",
    "https://pixellib.readthedocs.io/en/latest/video_instance.html"
   ]
  },
  {
   "cell_type": "code",
   "execution_count": 5,
   "metadata": {
    "vscode": {
     "languageId": "python"
    }
   },
   "outputs": [],
   "source": [
    "# !pip install tensorflow==2.4.1 tensorflow-gpu==2.4.1 pixellib opencv-python\n",
    "# # !pip install tensorflow-gpu==2.4.1 pixellib opencv-python"
   ]
  },
  {
   "cell_type": "code",
   "execution_count": 6,
   "metadata": {
    "vscode": {
     "languageId": "python"
    }
   },
   "outputs": [],
   "source": [
    "# 라이브러리 불러오기\n",
    "import pixellib\n",
    "from pixellib.instance import instance_segmentation\n",
    "import cv2"
   ]
  },
  {
   "cell_type": "markdown",
   "metadata": {},
   "source": [
    "#### 모델 생성"
   ]
  },
  {
   "cell_type": "code",
   "execution_count": 7,
   "metadata": {
    "vscode": {
     "languageId": "python"
    }
   },
   "outputs": [
    {
     "name": "stdout",
     "output_type": "stream",
     "text": [
      "WARNING:tensorflow:From C:\\Users\\user\\anaconda3\\envs\\mojimoji\\lib\\site-packages\\tensorflow\\python\\util\\deprecation.py:605: calling map_fn_v2 (from tensorflow.python.ops.map_fn) with dtype is deprecated and will be removed in a future version.\n",
      "Instructions for updating:\n",
      "Use fn_output_signature instead\n"
     ]
    }
   ],
   "source": [
    "segmentation_model = instance_segmentation()\n",
    "# The class for performing instance segmentation is imported \n",
    "# and we created an instance of the class.\n",
    "segmentation_model.load_model('mask_rcnn_coco.h5')"
   ]
  },
  {
   "attachments": {},
   "cell_type": "markdown",
   "metadata": {},
   "source": [
    "#### 사진 detection 코드"
   ]
  },
  {
   "cell_type": "code",
   "execution_count": 3,
   "metadata": {
    "vscode": {
     "languageId": "python"
    }
   },
   "outputs": [
    {
     "ename": "NameError",
     "evalue": "name 'segmentation_model' is not defined",
     "output_type": "error",
     "traceback": [
      "\u001b[1;31m---------------------------------------------------------------------------\u001b[0m",
      "\u001b[1;31mNameError\u001b[0m                                 Traceback (most recent call last)",
      "Cell \u001b[1;32mIn [3], line 2\u001b[0m\n\u001b[0;32m      1\u001b[0m \u001b[39m# This is the code to load the mask rcnn model to perform instance segmentation.\u001b[39;00m\n\u001b[1;32m----> 2\u001b[0m segmentation_model\u001b[39m.\u001b[39msegmentImage(\u001b[39m\"\u001b[39m\u001b[39mblackpink_channel.jpg\u001b[39m\u001b[39m\"\u001b[39m, output_image_name \u001b[39m=\u001b[39m \u001b[39m\"\u001b[39m\u001b[39moutput_image_path.jpg\u001b[39m\u001b[39m\"\u001b[39m)\n",
      "\u001b[1;31mNameError\u001b[0m: name 'segmentation_model' is not defined"
     ]
    }
   ],
   "source": [
    "# This is the code to load the mask rcnn model to perform instance segmentation.\n",
    "segmentation_model.segmentImage(\".data_files/\", output_image_name = \"output_image_path.jpg\")"
   ]
  },
  {
   "attachments": {},
   "cell_type": "markdown",
   "metadata": {},
   "source": [
    "##### 동영상 detection 코드"
   ]
  },
  {
   "cell_type": "code",
   "execution_count": null,
   "metadata": {
    "vscode": {
     "languageId": "python"
    }
   },
   "outputs": [
    {
     "name": "stderr",
     "output_type": "stream",
     "text": [
      "C:\\Users\\user\\anaconda3\\envs\\mojimoji\\lib\\site-packages\\tensorflow\\python\\keras\\engine\\training.py:2325: UserWarning: `Model.state_updates` will be removed in a future version. This property should not be used in TensorFlow 2.0, as `updates` are applied automatically.\n",
      "  warnings.warn('`Model.state_updates` will be removed in a future version. '\n"
     ]
    },
    {
     "ename": "",
     "evalue": "",
     "output_type": "error",
     "traceback": [
      "\u001b[1;31mCanceled future for execute_request message before replies were done"
     ]
    },
    {
     "ename": "",
     "evalue": "",
     "output_type": "error",
     "traceback": [
      "\u001b[1;31m현재 셀 또는 이전 셀에서 코드를 실행하는 동안 Kernel이 충돌했습니다. 셀의 코드를 검토하여 오류의 가능한 원인을 식별하세요. 자세한 내용을 보려면 <a href='https://aka.ms/vscodeJupyterKernelCrash'> 여기 </a> 를 클릭하세요. 자세한 내용은 Jupyter <a href='command:jupyter.viewOutput'>로그</a>를 참조하세요."
     ]
    }
   ],
   "source": [
    "# 카메라 열기\n",
    "# 0은 기본 카메라(장치관리자에 저장되어있는 순서대로), 카메라가 두 대면 1~2\n",
    "cap = cv2.VideoCapture(0) # 클래스 생성\n",
    "# cap.open(0) # 0번 카메라 열기, videoCapture(0)을 하면 안해도 됌\n",
    "while cap.isOpened():\n",
    "    ret, frame = cap.read()\n",
    "    \n",
    "    # Apply instance segmentation\n",
    "    res = segmentation_model.segmentFrame(frame, show_bboxes=True)\n",
    "    image = res[1]\n",
    "    \n",
    "    cv2.imshow('Instance Segmentation', image)\n",
    "    \n",
    "    if cv2.waitKey(10) & 0xFF == ord('q'):\n",
    "        break\n",
    "        \n",
    "cap.release()\n",
    "cv2.destroyAllWindows()"
   ]
  },
  {
   "cell_type": "code",
   "execution_count": null,
   "metadata": {
    "vscode": {
     "languageId": "python"
    }
   },
   "outputs": [],
   "source": [
    "segmentation_model.segmentFrame??"
   ]
  }
 ],
 "metadata": {
  "kernelspec": {
   "display_name": "mojimoji",
   "language": "python",
   "name": "mojimoji"
  },
  "vscode": {
   "interpreter": {
    "hash": "47ab93e400349285149e7bba82ca82d69423af9d0007c246d5e4db496e36f9dc"
   }
  }
 },
 "nbformat": 4,
 "nbformat_minor": 2
}
