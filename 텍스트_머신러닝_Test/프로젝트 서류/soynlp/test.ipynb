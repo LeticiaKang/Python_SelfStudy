{
 "cells": [
  {
   "cell_type": "code",
   "execution_count": 1,
   "metadata": {},
   "outputs": [],
   "source": [
    "# 형태소 분석/텍스트 클리닝\n",
    "from nltk.corpus import stopwords\n",
    "import nltk\n",
    "from nltk.stem import WordNetLemmatizer, SnowballStemmer\n",
    "from nltk.stem.porter import *\n",
    "from nltk import word_tokenize\n",
    "import pandas as pd \n",
    "from tqdm import tqdm\n",
    "from konlpy.tag import Okt\n",
    "import re\n",
    "\n",
    "# 단어 추가를 위함\n",
    "from ckonlpy.tag import Twitter\n"
   ]
  },
  {
   "cell_type": "markdown",
   "metadata": {},
   "source": [
    "### konlpy.tag import Okt에 단어 추가하기\n",
    "- https://inspiringpeople.github.io/data%20analysis/ckonlpy/"
   ]
  },
  {
   "cell_type": "code",
   "execution_count": 2,
   "metadata": {},
   "outputs": [
    {
     "name": "stdout",
     "output_type": "stream",
     "text": [
      "Requirement already satisfied: customized_konlpy in c:\\users\\user\\anaconda3\\lib\\site-packages (0.0.64)\n",
      "Requirement already satisfied: konlpy>=0.4.4 in c:\\users\\user\\anaconda3\\lib\\site-packages (from customized_konlpy) (0.6.0)\n",
      "Requirement already satisfied: Jpype1>=0.6.1 in c:\\users\\user\\anaconda3\\lib\\site-packages (from customized_konlpy) (1.4.1)\n",
      "Requirement already satisfied: packaging in c:\\users\\user\\appdata\\roaming\\python\\python38\\site-packages (from Jpype1>=0.6.1->customized_konlpy) (21.3)\n",
      "Requirement already satisfied: numpy>=1.6 in c:\\users\\user\\anaconda3\\lib\\site-packages (from konlpy>=0.4.4->customized_konlpy) (1.23.4)\n",
      "Requirement already satisfied: lxml>=4.1.0 in c:\\users\\user\\anaconda3\\lib\\site-packages (from konlpy>=0.4.4->customized_konlpy) (4.9.1)\n",
      "Requirement already satisfied: pyparsing!=3.0.5,>=2.0.2 in c:\\users\\user\\appdata\\roaming\\python\\python38\\site-packages (from packaging->Jpype1>=0.6.1->customized_konlpy) (3.0.9)\n",
      "Note: you may need to restart the kernel to use updated packages.\n"
     ]
    }
   ],
   "source": [
    "pip install customized_konlpy"
   ]
  },
  {
   "cell_type": "code",
   "execution_count": 2,
   "metadata": {},
   "outputs": [
    {
     "name": "stderr",
     "output_type": "stream",
     "text": [
      "c:\\Users\\user\\anaconda3\\lib\\site-packages\\konlpy\\tag\\_okt.py:17: UserWarning: \"Twitter\" has changed to \"Okt\" since KoNLPy v0.4.5.\n",
      "  warn('\"Twitter\" has changed to \"Okt\" since KoNLPy v0.4.5.')\n"
     ]
    },
    {
     "name": "stdout",
     "output_type": "stream",
     "text": [
      "['문제해결', '능력']\n",
      "['문제해결능력']\n",
      "['DBMS']\n"
     ]
    }
   ],
   "source": [
    "## 테스트\n",
    "twitter = Twitter()\n",
    "\n",
    "print(twitter.nouns('문제해결능력'))\n",
    "twitter.add_dictionary(['문제해결능력','DBMS'], 'Noun')\n",
    "\n",
    "print(twitter.nouns('문제해결능력'))\n",
    "print(twitter.nouns('DBMS'))"
   ]
  },
  {
   "cell_type": "markdown",
   "metadata": {},
   "source": [
    "### 데이터 불러오기"
   ]
  },
  {
   "cell_type": "code",
   "execution_count": 3,
   "metadata": {},
   "outputs": [],
   "source": [
    "df = pd.read_csv('기업데이터(30)_(전처리).csv').iloc[:, 1:]\n",
    "df.columns = [\"com\", \"date\", \"duty\", \"status\", \"star\", \"summary\", \"good\", \"bad\", \"expect\", \"doc\"]\n",
    "df.head()\n",
    "df1 = df[[\"com\", \"date\", \"duty\", \"doc\"]]"
   ]
  },
  {
   "cell_type": "code",
   "execution_count": 5,
   "metadata": {},
   "outputs": [
    {
     "data": {
      "text/html": [
       "<div>\n",
       "<style scoped>\n",
       "    .dataframe tbody tr th:only-of-type {\n",
       "        vertical-align: middle;\n",
       "    }\n",
       "\n",
       "    .dataframe tbody tr th {\n",
       "        vertical-align: top;\n",
       "    }\n",
       "\n",
       "    .dataframe thead th {\n",
       "        text-align: right;\n",
       "    }\n",
       "</style>\n",
       "<table border=\"1\" class=\"dataframe\">\n",
       "  <thead>\n",
       "    <tr style=\"text-align: right;\">\n",
       "      <th></th>\n",
       "      <th>com</th>\n",
       "      <th>date</th>\n",
       "      <th>duty</th>\n",
       "      <th>doc</th>\n",
       "    </tr>\n",
       "  </thead>\n",
       "  <tbody>\n",
       "    <tr>\n",
       "      <th>0</th>\n",
       "      <td>네이버</td>\n",
       "      <td>2022. 11</td>\n",
       "      <td>디자인</td>\n",
       "      <td>커리어 경력 쌓고 싶은 사람에게 추천 수평적 사무실 분위기와 복지가 다른 곳 보다는...</td>\n",
       "    </tr>\n",
       "  </tbody>\n",
       "</table>\n",
       "</div>"
      ],
      "text/plain": [
       "   com      date duty                                                doc\n",
       "0  네이버  2022. 11  디자인  커리어 경력 쌓고 싶은 사람에게 추천 수평적 사무실 분위기와 복지가 다른 곳 보다는..."
      ]
     },
     "execution_count": 5,
     "metadata": {},
     "output_type": "execute_result"
    }
   ],
   "source": [
    "df1.head(1)"
   ]
  },
  {
   "cell_type": "markdown",
   "metadata": {},
   "source": [
    "### 불용어, 숫자, 띄어쓰기, 특수문자, 의성어, 이모티콘 Cleaning\n",
    "- doc -> processing"
   ]
  },
  {
   "cell_type": "code",
   "execution_count": 4,
   "metadata": {},
   "outputs": [
    {
     "name": "stderr",
     "output_type": "stream",
     "text": [
      "C:\\Users\\user\\AppData\\Local\\Temp\\ipykernel_21064\\3087591807.py:28: SettingWithCopyWarning: \n",
      "A value is trying to be set on a copy of a slice from a DataFrame.\n",
      "Try using .loc[row_indexer,col_indexer] = value instead\n",
      "\n",
      "See the caveats in the documentation: https://pandas.pydata.org/pandas-docs/stable/user_guide/indexing.html#returning-a-view-versus-a-copy\n",
      "  df1[\"processing\"] = clean_text(df1[\"doc\"])\n"
     ]
    }
   ],
   "source": [
    "\n",
    "\n",
    "def clean_text(texts):\n",
    "    #이모티콘 제거\n",
    "    emoji_pattern = re.compile(\"[\"\n",
    "            u\"\\U0001F600-\\U0001F64F\"  # emoticons\n",
    "            u\"\\U0001F300-\\U0001F5FF\"  # symbols & pictographs\n",
    "            u\"\\U0001F680-\\U0001F6FF\"  # transport & map symbols\n",
    "            u\"\\U0001F1E0-\\U0001F1FF\"  # flags (iOS)\n",
    "                            \"]+\", flags=re.UNICODE)\n",
    "\n",
    "    #분석에 어긋나는 불용어구 제외 (특수문자, 의성어)\n",
    "    han = re.compile(r'[ㄱ-ㅎㅏ-ㅣ!?~,\".\\n\\r#\\ufeff\\u200d]')\n",
    "    \n",
    "    corpus = []\n",
    "    for i in range(0, len(texts)):\n",
    "        review = re.sub(r'[@%\\\\*=()/~#&\\+á?\\xc3\\xa1\\-\\|\\.\\:\\;\\!\\-\\,\\_\\~\\$\\'\\\"]', '',str(texts[i])) #remove punctuation\n",
    "        review = re.sub(r'\\d+','', str(texts[i]))# remove number\n",
    "        review = review.lower() #lower case\n",
    "        review = re.sub(r'\\s+', ' ', review) #remove extra space\n",
    "        # review = re.sub(r'<[^>]+>','',review) #remove Html tags\n",
    "        review = re.sub(r'\\s+', ' ', review) #remove spaces\n",
    "        review = re.sub(r\"^\\s+\", '', review) #remove space from start\n",
    "        review = re.sub(r'\\s+$', '', review) #remove space from the end\n",
    "        review = re.sub(han, '', review) #remove 특수문자, 의성어\n",
    "        review = re.sub(emoji_pattern, '', review) #remove 이모티콘\n",
    "        corpus.append(review)\n",
    "    return corpus\n",
    "\n",
    "df1[\"processing\"] = clean_text(df1[\"doc\"])"
   ]
  },
  {
   "cell_type": "code",
   "execution_count": 5,
   "metadata": {},
   "outputs": [
    {
     "name": "stderr",
     "output_type": "stream",
     "text": [
      "C:\\Users\\user\\AppData\\Local\\Temp\\ipykernel_21064\\3180551206.py:1: SettingWithCopyWarning: \n",
      "A value is trying to be set on a copy of a slice from a DataFrame.\n",
      "Try using .loc[row_indexer,col_indexer] = value instead\n",
      "\n",
      "See the caveats in the documentation: https://pandas.pydata.org/pandas-docs/stable/user_guide/indexing.html#returning-a-view-versus-a-copy\n",
      "  df1[\"processing\"] = clean_text(df1[\"doc\"])\n"
     ]
    }
   ],
   "source": [
    "df1[\"processing\"] = clean_text(df1[\"doc\"])"
   ]
  },
  {
   "cell_type": "code",
   "execution_count": 9,
   "metadata": {},
   "outputs": [
    {
     "data": {
      "text/html": [
       "<div>\n",
       "<style scoped>\n",
       "    .dataframe tbody tr th:only-of-type {\n",
       "        vertical-align: middle;\n",
       "    }\n",
       "\n",
       "    .dataframe tbody tr th {\n",
       "        vertical-align: top;\n",
       "    }\n",
       "\n",
       "    .dataframe thead th {\n",
       "        text-align: right;\n",
       "    }\n",
       "</style>\n",
       "<table border=\"1\" class=\"dataframe\">\n",
       "  <thead>\n",
       "    <tr style=\"text-align: right;\">\n",
       "      <th></th>\n",
       "      <th>com</th>\n",
       "      <th>date</th>\n",
       "      <th>duty</th>\n",
       "      <th>doc</th>\n",
       "      <th>processing</th>\n",
       "    </tr>\n",
       "  </thead>\n",
       "  <tbody>\n",
       "    <tr>\n",
       "      <th>0</th>\n",
       "      <td>네이버</td>\n",
       "      <td>2022. 11</td>\n",
       "      <td>디자인</td>\n",
       "      <td>커리어 경력 쌓고 싶은 사람에게 추천 수평적 사무실 분위기와 복지가 다른 곳 보다는...</td>\n",
       "      <td>커리어 경력 쌓고 싶은 사람에게 추천 수평적 사무실 분위기와 복지가 다른 곳 보다는...</td>\n",
       "    </tr>\n",
       "    <tr>\n",
       "      <th>1</th>\n",
       "      <td>네이버</td>\n",
       "      <td>2022. 11</td>\n",
       "      <td>전문직</td>\n",
       "      <td>자유로운 복장 분위기가 일단 편해서 좋았어요. 물론 업무는 당연히 강도가 있어야 할...</td>\n",
       "      <td>자유로운 복장 분위기가 일단 편해서 좋았어요 물론 업무는 당연히 강도가 있어야 할 ...</td>\n",
       "    </tr>\n",
       "    <tr>\n",
       "      <th>2</th>\n",
       "      <td>네이버</td>\n",
       "      <td>2022. 11</td>\n",
       "      <td>IT/인터넷</td>\n",
       "      <td>워라밸과 성장을 동시에 챙길 수 있는 몇 안되는 기업 앞으로도 가장 전망이 좋은 플...</td>\n",
       "      <td>워라밸과 성장을 동시에 챙길 수 있는 몇 안되는 기업 앞으로도 가장 전망이 좋은 플...</td>\n",
       "    </tr>\n",
       "    <tr>\n",
       "      <th>3</th>\n",
       "      <td>네이버</td>\n",
       "      <td>2022. 11</td>\n",
       "      <td>IT/인터넷</td>\n",
       "      <td>개발자가 영향력을 좀 발휘하며 일할수 있는곳. it업계 1위 개발에만 집중하며 일할...</td>\n",
       "      <td>개발자가 영향력을 좀 발휘하며 일할수 있는곳 it업계 위 개발에만 집중하며 일할 수...</td>\n",
       "    </tr>\n",
       "    <tr>\n",
       "      <th>4</th>\n",
       "      <td>네이버</td>\n",
       "      <td>2022. 10</td>\n",
       "      <td>IT/인터넷</td>\n",
       "      <td>아르바이트 생이었지만 꿈의 직장이란게 이런 것이구나 느낄 수 있었다 휴가 연차 등 ...</td>\n",
       "      <td>아르바이트 생이었지만 꿈의 직장이란게 이런 것이구나 느낄 수 있었다 휴가 연차 등 ...</td>\n",
       "    </tr>\n",
       "  </tbody>\n",
       "</table>\n",
       "</div>"
      ],
      "text/plain": [
       "   com      date    duty                                                doc  \\\n",
       "0  네이버  2022. 11     디자인  커리어 경력 쌓고 싶은 사람에게 추천 수평적 사무실 분위기와 복지가 다른 곳 보다는...   \n",
       "1  네이버  2022. 11     전문직  자유로운 복장 분위기가 일단 편해서 좋았어요. 물론 업무는 당연히 강도가 있어야 할...   \n",
       "2  네이버  2022. 11  IT/인터넷  워라밸과 성장을 동시에 챙길 수 있는 몇 안되는 기업 앞으로도 가장 전망이 좋은 플...   \n",
       "3  네이버  2022. 11  IT/인터넷  개발자가 영향력을 좀 발휘하며 일할수 있는곳. it업계 1위 개발에만 집중하며 일할...   \n",
       "4  네이버  2022. 10  IT/인터넷  아르바이트 생이었지만 꿈의 직장이란게 이런 것이구나 느낄 수 있었다 휴가 연차 등 ...   \n",
       "\n",
       "                                          processing  \n",
       "0  커리어 경력 쌓고 싶은 사람에게 추천 수평적 사무실 분위기와 복지가 다른 곳 보다는...  \n",
       "1  자유로운 복장 분위기가 일단 편해서 좋았어요 물론 업무는 당연히 강도가 있어야 할 ...  \n",
       "2  워라밸과 성장을 동시에 챙길 수 있는 몇 안되는 기업 앞으로도 가장 전망이 좋은 플...  \n",
       "3  개발자가 영향력을 좀 발휘하며 일할수 있는곳 it업계 위 개발에만 집중하며 일할 수...  \n",
       "4  아르바이트 생이었지만 꿈의 직장이란게 이런 것이구나 느낄 수 있었다 휴가 연차 등 ...  "
      ]
     },
     "execution_count": 9,
     "metadata": {},
     "output_type": "execute_result"
    }
   ],
   "source": [
    "df1.head()"
   ]
  },
  {
   "cell_type": "markdown",
   "metadata": {},
   "source": [
    "### soynlp 사용\n",
    ": 기존의 형태소 분석기는 신조어나 형태소 분석기에 등록되지 않은 단어 같은 경우에는 제대로 구분하지 못하는 단점"
   ]
  },
  {
   "cell_type": "code",
   "execution_count": 12,
   "metadata": {},
   "outputs": [
    {
     "name": "stdout",
     "output_type": "stream",
     "text": [
      "Collecting soynlp\n",
      "  Downloading soynlp-0.0.493-py3-none-any.whl (416 kB)\n",
      "     ------------------------------------- 416.8/416.8 kB 13.1 MB/s eta 0:00:00\n",
      "Requirement already satisfied: scikit-learn>=0.20.0 in c:\\users\\user\\anaconda3\\lib\\site-packages (from soynlp) (1.0.2)\n",
      "Requirement already satisfied: numpy>=1.12.1 in c:\\users\\user\\anaconda3\\lib\\site-packages (from soynlp) (1.23.4)\n",
      "Requirement already satisfied: psutil>=5.0.1 in c:\\users\\user\\appdata\\roaming\\python\\python38\\site-packages (from soynlp) (5.9.4)\n",
      "Requirement already satisfied: scipy>=1.1.0 in c:\\users\\user\\anaconda3\\lib\\site-packages (from soynlp) (1.4.1)\n",
      "Requirement already satisfied: threadpoolctl>=2.0.0 in c:\\users\\user\\anaconda3\\lib\\site-packages (from scikit-learn>=0.20.0->soynlp) (2.2.0)\n",
      "Requirement already satisfied: joblib>=0.11 in c:\\users\\user\\anaconda3\\lib\\site-packages (from scikit-learn>=0.20.0->soynlp) (1.1.0)\n",
      "Installing collected packages: soynlp\n",
      "Successfully installed soynlp-0.0.493\n",
      "Note: you may need to restart the kernel to use updated packages.\n"
     ]
    }
   ],
   "source": [
    "pip install soynlp"
   ]
  },
  {
   "cell_type": "code",
   "execution_count": 6,
   "metadata": {},
   "outputs": [
    {
     "name": "stdout",
     "output_type": "stream",
     "text": [
      "['에이', '비식스', '이대', '휘', '1월', '최애', '돌', '기부', '요정']\n"
     ]
    }
   ],
   "source": [
    "from konlpy.tag import Okt\n",
    "tokenizer = Okt()\n",
    "print(tokenizer.morphs('에이비식스 이대휘 1월 최애돌 기부 요정'))\n"
   ]
  },
  {
   "cell_type": "markdown",
   "metadata": {},
   "source": [
    "### 2. 학습하기"
   ]
  },
  {
   "cell_type": "code",
   "execution_count": 7,
   "metadata": {},
   "outputs": [],
   "source": [
    "import urllib.request\n",
    "from soynlp import DoublespaceLineCorpus\n",
    "from soynlp.word import WordExtractor"
   ]
  },
  {
   "cell_type": "code",
   "execution_count": 15,
   "metadata": {},
   "outputs": [
    {
     "data": {
      "text/plain": [
       "45400"
      ]
     },
     "execution_count": 15,
     "metadata": {},
     "output_type": "execute_result"
    }
   ],
   "source": [
    "doc = df['doc'][:45400]\n",
    "doc.to_csv('training_file.txt', index=False, header=None, sep=\"\\t\")\n",
    "#index = False : 자동으로 가장 왼쪽 컬럼에 생성된 0 부터 시작하는 인덱스 지울 때\n",
    "# header = None : 헤더 이름 지울 때\n",
    "# sep = \"\\t\" : CSV 파일 기본이 comma 라서, 별도의 구분자를 두려면 변경. 예제는 탭(\\t) 으로 바꿔 줌"
   ]
  },
  {
   "cell_type": "markdown",
   "metadata": {},
   "source": [
    " soynlp는 학습 기반의 단어 토크나이저이므로 기존의 KoNLPy에서 제공하는 형태소 분석기들과는 달리 학습 과정을 거쳐야 합니다. 이는 전체 코퍼스로부터 응집 확률과 브랜칭 엔트로피 단어 점수표를 만드는 과정입니다. WordExtractor.extract()를 통해서 전체 코퍼스에 대해 단어 점수표를 계산합니다."
   ]
  },
  {
   "cell_type": "code",
   "execution_count": 54,
   "metadata": {},
   "outputs": [
    {
     "data": {
      "text/plain": [
       "45400"
      ]
     },
     "execution_count": 54,
     "metadata": {},
     "output_type": "execute_result"
    }
   ],
   "source": [
    "trainSet = DoublespaceLineCorpus(\"training_file.txt\")\n",
    "len(trainSet)"
   ]
  },
  {
   "cell_type": "code",
   "execution_count": 55,
   "metadata": {},
   "outputs": [
    {
     "name": "stdout",
     "output_type": "stream",
     "text": [
      "training was done. used memory 0.983 Gbory 0.891 Gb\n",
      "all cohesion probabilities was computed. # words = 106076\n",
      "all branching entropies was computed # words = 133761\n",
      "all accessor variety was computed # words = 133761\n"
     ]
    }
   ],
   "source": [
    "word_extractor = WordExtractor()\n",
    "word_extractor.train(trainSet)\n",
    "word_score_table = word_extractor.extract()"
   ]
  },
  {
   "cell_type": "markdown",
   "metadata": {},
   "source": [
    "### 3. SOYNLP의 응집 확률(cohesion probability)\n",
    "- 응집 확률은 내부 문자열(substring)이 얼마나 응집하여 자주 등장하는지를 판단하는 척도입니다. 응집 확률은 문자열을 문자 단위로 분리하여 내부 문자열을 만드는 과정에서 왼쪽부터 순서대로 문자를 추가하면서 각 문자열이 주어졌을 때 그 다음 문자가 나올 확률을 계산하여 누적곱을 한 값입니다. 이 값이 높을수록 전체 코퍼스에서 이 문자열 시퀀스는 하나의 단어로 등장할 가능성이 높습니다. 수식은 아래와 같습니다."
   ]
  },
  {
   "cell_type": "code",
   "execution_count": 20,
   "metadata": {},
   "outputs": [
    {
     "name": "stdout",
     "output_type": "stream",
     "text": [
      "0.8509324758842444\n",
      "0.6642937404743782\n",
      "0.2569365176291876\n"
     ]
    }
   ],
   "source": [
    "print(word_score_table[\"워라\"].cohesion_forward)\n",
    "print(word_score_table[\"워라밸\"].cohesion_forward)\n",
    "print(word_score_table[\"네카라쿠배\"].cohesion_forward)"
   ]
  },
  {
   "cell_type": "markdown",
   "metadata": {},
   "source": [
    "### 4. SOYNLP의 브랜칭 엔트로피(branching entropy)"
   ]
  },
  {
   "cell_type": "code",
   "execution_count": 27,
   "metadata": {},
   "outputs": [
    {
     "name": "stdout",
     "output_type": "stream",
     "text": [
      "0.700857074091836\n",
      "3.247554193256744\n",
      "-0.0\n",
      "-0.0\n",
      "2.6031790172675286\n",
      "3.1256296092239726\n"
     ]
    }
   ],
   "source": [
    "print(word_score_table[\"워라\"].right_branching_entropy)\n",
    "print(word_score_table[\"워라밸\"].right_branching_entropy)\n",
    "print(word_score_table[\"네카라\"].right_branching_entropy)\n",
    "print(word_score_table[\"네카라쿠배\"].right_branching_entropy)\n",
    "print(word_score_table[\"주말근무\"].right_branching_entropy)\n",
    "print(word_score_table[\"네임벨류\"].right_branching_entropy)"
   ]
  },
  {
   "cell_type": "markdown",
   "metadata": {},
   "source": [
    "### 5. SOYNLP의 tokenizer"
   ]
  },
  {
   "cell_type": "code",
   "execution_count": 52,
   "metadata": {},
   "outputs": [],
   "source": [
    "\n",
    "from soynlp.noun import LRNounExtractor\n",
    "from soynlp.word import WordExtractor\n",
    "from soynlp.tokenizer import LTokenizer"
   ]
  },
  {
   "cell_type": "code",
   "execution_count": 57,
   "metadata": {},
   "outputs": [
    {
     "name": "stdout",
     "output_type": "stream",
     "text": [
      "[Noun Extractor] used default noun predictor; Sejong corpus predictor\n",
      "[Noun Extractor] used noun_predictor_sejong\n",
      "[Noun Extractor] All 2398 r features was loaded\n",
      "[Noun Extractor] scanning was done (L,R) has (70019, 39778) tokens\n",
      "[Noun Extractor] building L-R graph was done\n",
      "[Noun Extractor] 13613 nouns are extracted\n",
      "training was done. used memory 1.294 Gbory 1.135 Gb\n",
      "all cohesion probabilities was computed. # words = 16330\n",
      "all branching entropies was computed # words = 130545\n",
      "all accessor variety was computed # words = 130545\n"
     ]
    }
   ],
   "source": [
    "noun_extractor = LRNounExtractor()\n",
    "nouns = noun_extractor.train_extract(list(trainSet)) # list of str like\n",
    "\n",
    "\n",
    "word_extractor = WordExtractor(\n",
    "    min_frequency=50, # example\n",
    "    min_cohesion_forward=0.05,\n",
    "    min_right_branching_entropy=0.0\n",
    ")\n",
    "\n",
    "word_extractor.train(list(trainSet))\n",
    "words = word_extractor.extract()\n",
    "\n",
    "cohesion_score = {word:score.cohesion_forward for word, score in words.items()}\n",
    "\n",
    "noun_scores = {noun:score.score for noun, score in nouns.items()}\n",
    "combined_scores = {noun:score + cohesion_score.get(noun, 0)\n",
    "    for noun, score in noun_scores.items()}\n",
    "combined_scores.update(\n",
    "    {subword:cohesion for subword, cohesion in cohesion_score.items()\n",
    "    if not (subword in combined_scores)}\n",
    ")\n",
    "\n",
    "tokenizer = LTokenizer(scores=combined_scores)"
   ]
  },
  {
   "cell_type": "code",
   "execution_count": 74,
   "metadata": {},
   "outputs": [
    {
     "name": "stdout",
     "output_type": "stream",
     "text": [
      "좋은 인력풀에서 일해볼 수 있는 기회여서 시야를 틀수도 있지만 부바부 전체적으로 자유로운 분위기 이지만 이또한 부바부로 생긴지 오래되지 않은 부서여서 매우 자유로운편이었음 실력일는 팀원이 아닌 리더에게 잘보이는 사람에게 과업을 몰아주는 정치질도 있음. 물론 인센티브도 같이 뺏김 오래다니지 않아서 경영진까지 바라고 할게 없었다고 한다\n",
      "['좋은', '인력', '풀에서', '일해볼', '수', '있는', '기회', '여서', '시야', '를', '틀수도', '있지', '만', '부바', '부', '전체적', '으로', '자유', '로운', '분위기', '이지', '만', '이또', '한', '부바', '부로', '생긴지', '오래', '되지', '않은', '부서', '여서', '매우', '자유', '로운편이었음', '실력', '일는', '팀원', '이', '아닌', '리더', '에게', '잘보', '이는', '사람', '에게', '과업', '을', '몰아주', '는', '정치', '질도', '있음.', '물론', '인센티브', '도', '같이', '뺏김', '오래', '다니지', '않아서', '경영진', '까지', '바라', '고', '할게', '없었다', '고', '한다']\n"
     ]
    }
   ],
   "source": [
    "train_list=list(trainSet)\n",
    "print(str(train_list[34]))\n",
    "print(tokenizer.tokenize(str(train_list[34])))"
   ]
  },
  {
   "cell_type": "markdown",
   "metadata": {},
   "source": [
    "### 형태소별 분리 및 불용어(은, 는, 이, 가 등) 제거\n",
    "- processing -> token"
   ]
  },
  {
   "cell_type": "code",
   "execution_count": null,
   "metadata": {},
   "outputs": [
    {
     "name": "stdout",
     "output_type": "stream",
     "text": [
      "  stopwords\n",
      "0         가\n",
      "1      가까스로\n",
      "2        가령\n",
      "['가', '가까스로', '가령']\n"
     ]
    }
   ],
   "source": [
    "twitter = Twitter()\n",
    "\n",
    "# 필요한 단어 추가\n",
    "twitter.add_dictionary(['워라벨','워라밸', '주말근무', '경영진', '적극', '인상', '전문', ], 'Noun')\n",
    "twitter.add_dictionary(['새로운'], 'Adjective')\n",
    "\n",
    " # 한국어 불용어 사전 불러오기\n",
    " # 의미가 없거나 없어도 되는 단어를 모아놓은 파일\n",
    "stopwords = pd.read_csv('ko-stopwords_형태소분석_수업용.csv'); print(stopwords[0:3])  \n",
    "# 리스트로 만들어줌\n",
    "stopwords = list(stopwords['stopwords']); print(stopwords[0:3])\n",
    "# 크롤링한 내용을 보면서 불용어를 추가로 넣어줌(extend)\n",
    "stopwords.extend(['에서','고','이다','는','한','씨', \"것\",\"거\",\"게\",\"데\",\"이다\",\"건\",\"고\",\"되다\",\"되어다\",\"걸\",\"기\",\n",
    "                  \"시\",\"네\",\"듯\",\"랍니\",\"중이\",\"얘\",\"스\",\"도도\", \"나\",\"수\",\"개\",\"내\",\"기\",\"제\",\"저\",\"인\",\"있다\",\"이렇다\",\n",
    "                  \"그렇다\",\"번\",\"위\",\"팅\",\"분\",\"인\",\"링\",\"란\",\"포\",\"두\", \"진짜\", \"하다\" ,\"이다\" ,\"가다\", \"이제\" ,\"들다\"\n",
    "                 ]) \n",
    "# 혹시 중복이 되어 있을 수 있어 중복제거 해줌\n",
    "stopwords = set(stopwords) \n",
    "\n",
    "# 형태소 분석 Function\n",
    "def okt_pos_tagging(string):\n",
    "    # pos는 주어진 텍스트를 형태소 단위로 나누고 품사를 태깅한다.(형태소, 품사)\n",
    "    # 예: [('유일하', 'Noun'), ('게', 'Josa'), ('되다', 'Verb')]\n",
    "    pos_words = twitter.pos(string, stem= True, norm = True) \n",
    "    words = [word for word, tag in pos_words if tag\n",
    "             in ['Noun', 'Adjective', 'Verb', ' Adverb'] if word not in stopwords]\n",
    "    return words    \n",
    "    \n",
    " "
   ]
  },
  {
   "cell_type": "code",
   "execution_count": null,
   "metadata": {},
   "outputs": [
    {
     "name": "stderr",
     "output_type": "stream",
     "text": [
      "100%|██████████| 60573/60573 [07:16<00:00, 138.63it/s]\n",
      "C:\\Users\\user\\AppData\\Local\\Temp\\ipykernel_16048\\514626234.py:5: SettingWithCopyWarning: \n",
      "A value is trying to be set on a copy of a slice from a DataFrame.\n",
      "Try using .loc[row_indexer,col_indexer] = value instead\n",
      "\n",
      "See the caveats in the documentation: https://pandas.pydata.org/pandas-docs/stable/user_guide/indexing.html#returning-a-view-versus-a-copy\n",
      "  df1['token'] = tokenizing_doc #새로운 tokenizing이라는 컬럼에 키워드 형태로 만든 원리\n"
     ]
    },
    {
     "data": {
      "text/html": [
       "<div>\n",
       "<style scoped>\n",
       "    .dataframe tbody tr th:only-of-type {\n",
       "        vertical-align: middle;\n",
       "    }\n",
       "\n",
       "    .dataframe tbody tr th {\n",
       "        vertical-align: top;\n",
       "    }\n",
       "\n",
       "    .dataframe thead th {\n",
       "        text-align: right;\n",
       "    }\n",
       "</style>\n",
       "<table border=\"1\" class=\"dataframe\">\n",
       "  <thead>\n",
       "    <tr style=\"text-align: right;\">\n",
       "      <th></th>\n",
       "      <th>com</th>\n",
       "      <th>date</th>\n",
       "      <th>duty</th>\n",
       "      <th>processing</th>\n",
       "      <th>token</th>\n",
       "    </tr>\n",
       "  </thead>\n",
       "  <tbody>\n",
       "    <tr>\n",
       "      <th>0</th>\n",
       "      <td>네이버</td>\n",
       "      <td>2022. 11</td>\n",
       "      <td>디자인</td>\n",
       "      <td>커리어 경력 쌓고 싶은 사람에게 추천 수평적 사무실 분위기와 복지가 다른 곳 보다는...</td>\n",
       "      <td>[커리어, 경력, 쌓다, 싶다, 사람, 추천, 수평, 적, 사무실, 분위기, 복지,...</td>\n",
       "    </tr>\n",
       "    <tr>\n",
       "      <th>1</th>\n",
       "      <td>네이버</td>\n",
       "      <td>2022. 11</td>\n",
       "      <td>전문직</td>\n",
       "      <td>자유로운 복장 분위기가 일단 편해서 좋았어요 물론 업무는 당연히 강도가 있어야 할 ...</td>\n",
       "      <td>[자유로, 운, 복장, 분위기, 편, 좋다, 어요, 업무, 강도, 부분, 챙기다, ...</td>\n",
       "    </tr>\n",
       "    <tr>\n",
       "      <th>2</th>\n",
       "      <td>네이버</td>\n",
       "      <td>2022. 11</td>\n",
       "      <td>IT/인터넷</td>\n",
       "      <td>워라밸과 성장을 동시에 챙길 수 있는 몇 안되는 기업 앞으로도 가장 전망이 좋은 플...</td>\n",
       "      <td>[워라밸, 성장, 동시, 챙기다, 안되다, 기업, 앞, 가장, 전망, 좋다, 플랫폼...</td>\n",
       "    </tr>\n",
       "    <tr>\n",
       "      <th>3</th>\n",
       "      <td>네이버</td>\n",
       "      <td>2022. 11</td>\n",
       "      <td>IT/인터넷</td>\n",
       "      <td>개발자가 영향력을 좀 발휘하며 일할수 있는곳 it업계 위 개발에만 집중하며 일할 수...</td>\n",
       "      <td>[개발자, 영향력, 발, 휘하, 곳, 업계, 개발, 집, 중하, 보상, 복지, 좋다...</td>\n",
       "    </tr>\n",
       "    <tr>\n",
       "      <th>4</th>\n",
       "      <td>네이버</td>\n",
       "      <td>2022. 10</td>\n",
       "      <td>IT/인터넷</td>\n",
       "      <td>아르바이트 생이었지만 꿈의 직장이란게 이런 것이구나 느낄 수 있었다 휴가 연차 등 ...</td>\n",
       "      <td>[아르바이트, 생, 꿈, 직장, 이란, 이구, 느끼다, 휴가, 연차, 복지, 눈치,...</td>\n",
       "    </tr>\n",
       "    <tr>\n",
       "      <th>...</th>\n",
       "      <td>...</td>\n",
       "      <td>...</td>\n",
       "      <td>...</td>\n",
       "      <td>...</td>\n",
       "      <td>...</td>\n",
       "    </tr>\n",
       "    <tr>\n",
       "      <th>60568</th>\n",
       "      <td>여기어때</td>\n",
       "      <td>2014. 12</td>\n",
       "      <td>IT/인터넷</td>\n",
       "      <td>돈은 있다 성장을 원한다 높은 보상을 원한다면 도전해보라 조직원 평균연령이 젊음(그...</td>\n",
       "      <td>[돈, 성장, 원한, 높다, 보상, 원한, 면, 도, 전해, 보라, 조직, 원, 평...</td>\n",
       "    </tr>\n",
       "    <tr>\n",
       "      <th>60569</th>\n",
       "      <td>여기어때</td>\n",
       "      <td>2014. 11</td>\n",
       "      <td>IT/인터넷</td>\n",
       "      <td>자율적인 분위기 깨어있는 조직문화 안정적인 회사를 원하면 지원해도됨 경영진의 마인드...</td>\n",
       "      <td>[자율, 적, 분위기, 깨다, 조직, 문화, 안, 정적, 회사, 원하다, 지원, 해...</td>\n",
       "    </tr>\n",
       "    <tr>\n",
       "      <th>60570</th>\n",
       "      <td>여기어때</td>\n",
       "      <td>2014. 11</td>\n",
       "      <td>IT/인터넷</td>\n",
       "      <td>best 일에 대한 열정이 있고 대인관계에 자신이 있는 자는 쉽게 높은 연봉과 직급...</td>\n",
       "      <td>[대한, 열정, 대인관계, 자다, 쉬다, 높다, 연봉, 직급, 얻다, 젊다, 분위기...</td>\n",
       "    </tr>\n",
       "    <tr>\n",
       "      <th>60571</th>\n",
       "      <td>여기어때</td>\n",
       "      <td>2014. 10</td>\n",
       "      <td>IT/인터넷</td>\n",
       "      <td>젊은 분위기 야근 많고 주말근무도 많음 월급은 적음 작은 규모이지만 비전을 가지고 ...</td>\n",
       "      <td>[젊다, 분위기, 야근, 많다, 주말, 근무, 많다, 월급, 적다, 작다, 규모, ...</td>\n",
       "    </tr>\n",
       "    <tr>\n",
       "      <th>60572</th>\n",
       "      <td>여기어때</td>\n",
       "      <td>2014. 07</td>\n",
       "      <td>IT/인터넷</td>\n",
       "      <td>완벽하지는 않지만 계속해서 발전해 나가는 회사 임원진의 결단이 빠르고 신속하게 진행...</td>\n",
       "      <td>[완벽, 않다, 계속, 발전, 늘다, 회사, 임원, 진의, 결단, 빠르다, 신속, ...</td>\n",
       "    </tr>\n",
       "  </tbody>\n",
       "</table>\n",
       "<p>60573 rows × 5 columns</p>\n",
       "</div>"
      ],
      "text/plain": [
       "        com      date    duty  \\\n",
       "0       네이버  2022. 11     디자인   \n",
       "1       네이버  2022. 11     전문직   \n",
       "2       네이버  2022. 11  IT/인터넷   \n",
       "3       네이버  2022. 11  IT/인터넷   \n",
       "4       네이버  2022. 10  IT/인터넷   \n",
       "...     ...       ...     ...   \n",
       "60568  여기어때  2014. 12  IT/인터넷   \n",
       "60569  여기어때  2014. 11  IT/인터넷   \n",
       "60570  여기어때  2014. 11  IT/인터넷   \n",
       "60571  여기어때  2014. 10  IT/인터넷   \n",
       "60572  여기어때  2014. 07  IT/인터넷   \n",
       "\n",
       "                                              processing  \\\n",
       "0      커리어 경력 쌓고 싶은 사람에게 추천 수평적 사무실 분위기와 복지가 다른 곳 보다는...   \n",
       "1      자유로운 복장 분위기가 일단 편해서 좋았어요 물론 업무는 당연히 강도가 있어야 할 ...   \n",
       "2      워라밸과 성장을 동시에 챙길 수 있는 몇 안되는 기업 앞으로도 가장 전망이 좋은 플...   \n",
       "3      개발자가 영향력을 좀 발휘하며 일할수 있는곳 it업계 위 개발에만 집중하며 일할 수...   \n",
       "4      아르바이트 생이었지만 꿈의 직장이란게 이런 것이구나 느낄 수 있었다 휴가 연차 등 ...   \n",
       "...                                                  ...   \n",
       "60568  돈은 있다 성장을 원한다 높은 보상을 원한다면 도전해보라 조직원 평균연령이 젊음(그...   \n",
       "60569  자율적인 분위기 깨어있는 조직문화 안정적인 회사를 원하면 지원해도됨 경영진의 마인드...   \n",
       "60570  best 일에 대한 열정이 있고 대인관계에 자신이 있는 자는 쉽게 높은 연봉과 직급...   \n",
       "60571  젊은 분위기 야근 많고 주말근무도 많음 월급은 적음 작은 규모이지만 비전을 가지고 ...   \n",
       "60572  완벽하지는 않지만 계속해서 발전해 나가는 회사 임원진의 결단이 빠르고 신속하게 진행...   \n",
       "\n",
       "                                                   token  \n",
       "0      [커리어, 경력, 쌓다, 싶다, 사람, 추천, 수평, 적, 사무실, 분위기, 복지,...  \n",
       "1      [자유로, 운, 복장, 분위기, 편, 좋다, 어요, 업무, 강도, 부분, 챙기다, ...  \n",
       "2      [워라밸, 성장, 동시, 챙기다, 안되다, 기업, 앞, 가장, 전망, 좋다, 플랫폼...  \n",
       "3      [개발자, 영향력, 발, 휘하, 곳, 업계, 개발, 집, 중하, 보상, 복지, 좋다...  \n",
       "4      [아르바이트, 생, 꿈, 직장, 이란, 이구, 느끼다, 휴가, 연차, 복지, 눈치,...  \n",
       "...                                                  ...  \n",
       "60568  [돈, 성장, 원한, 높다, 보상, 원한, 면, 도, 전해, 보라, 조직, 원, 평...  \n",
       "60569  [자율, 적, 분위기, 깨다, 조직, 문화, 안, 정적, 회사, 원하다, 지원, 해...  \n",
       "60570  [대한, 열정, 대인관계, 자다, 쉬다, 높다, 연봉, 직급, 얻다, 젊다, 분위기...  \n",
       "60571  [젊다, 분위기, 야근, 많다, 주말, 근무, 많다, 월급, 적다, 작다, 규모, ...  \n",
       "60572  [완벽, 않다, 계속, 발전, 늘다, 회사, 임원, 진의, 결단, 빠르다, 신속, ...  \n",
       "\n",
       "[60573 rows x 5 columns]"
      ]
     },
     "execution_count": 38,
     "metadata": {},
     "output_type": "execute_result"
    }
   ],
   "source": [
    "# 형태소 분석 적용\n",
    "tokenizing_doc = []\n",
    "for i in tqdm(df1['processing']):\n",
    "    tokenizing_doc.append(okt_pos_tagging(i))\n",
    "df1['token'] = tokenizing_doc #새로운 tokenizing이라는 컬럼에 키워드 형태로 만든 원리\n",
    "df1[[\"com\", \"date\", \"duty\", \"processing\", \"token\"]]"
   ]
  },
  {
   "cell_type": "code",
   "execution_count": null,
   "metadata": {},
   "outputs": [],
   "source": [
    "df1[[\"processing\",'token']].to_csv(\"단어추가_전_토큰화csv\", encoding='utf-8-sig', index=False)"
   ]
  },
  {
   "cell_type": "code",
   "execution_count": null,
   "metadata": {},
   "outputs": [],
   "source": [
    "# 저장\n",
    "data.to_excel('블로그_비건(전처리)_수업용.xlsx', encoding='utf-8-sig', index=False)"
   ]
  },
  {
   "cell_type": "code",
   "execution_count": null,
   "metadata": {},
   "outputs": [
    {
     "data": {
      "text/plain": [
       "[('새', 'Noun'), ('로운', 'Josa')]"
      ]
     },
     "execution_count": 41,
     "metadata": {},
     "output_type": "execute_result"
    }
   ],
   "source": [
    "kkk = twitter.pos(\"새로운\", stem= True, norm = True) \n",
    "kkk"
   ]
  },
  {
   "cell_type": "code",
   "execution_count": null,
   "metadata": {},
   "outputs": [],
   "source": []
  },
  {
   "cell_type": "code",
   "execution_count": null,
   "metadata": {},
   "outputs": [],
   "source": []
  }
 ],
 "metadata": {
  "kernelspec": {
   "display_name": "Python 3.8.13 ('base')",
   "language": "python",
   "name": "python3"
  },
  "language_info": {
   "codemirror_mode": {
    "name": "ipython",
    "version": 3
   },
   "file_extension": ".py",
   "mimetype": "text/x-python",
   "name": "python",
   "nbconvert_exporter": "python",
   "pygments_lexer": "ipython3",
   "version": "3.8.13"
  },
  "orig_nbformat": 4,
  "vscode": {
   "interpreter": {
    "hash": "a077222d77dfe082b8f1dd562ad70e458ac2ab76993a0b248ab0476e32e9e8dd"
   }
  }
 },
 "nbformat": 4,
 "nbformat_minor": 2
}
