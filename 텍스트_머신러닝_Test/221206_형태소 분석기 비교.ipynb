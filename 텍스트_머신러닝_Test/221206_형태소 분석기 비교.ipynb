{
 "cells": [
  {
   "cell_type": "code",
   "execution_count": 4,
   "metadata": {},
   "outputs": [],
   "source": [
    "# #install mecab\n",
    "# ! git clone https://github.com/SOMJANG/Mecab-ko-for-Google-Colab.git\n",
    "# # cd Mecab-ko-for-Google-Colab #move to Mecab-ko~ folder\n",
    "# !bash install_mecab-ko_on_colab190912.sh\n"
   ]
  },
  {
   "cell_type": "code",
   "execution_count": 6,
   "metadata": {},
   "outputs": [],
   "source": [
    "####한국어 형태소 분석기####\n",
    "from konlpy.tag import Kkma, Komoran, Okt, Hannanum #Mecab은 윈도우에서 작동 불가능\n",
    "okt = Okt()\n",
    "kkma = Kkma()\n",
    "komoran = Komoran()\n",
    "hannanum = Hannanum()"
   ]
  },
  {
   "cell_type": "code",
   "execution_count": 7,
   "metadata": {},
   "outputs": [],
   "source": [
    "text = '테스트를위한 문장으로 띄어스기와 맞춘법이 맞지 않음'"
   ]
  },
  {
   "cell_type": "code",
   "execution_count": 13,
   "metadata": {},
   "outputs": [
    {
     "name": "stdout",
     "output_type": "stream",
     "text": [
      "[Kkma morphs 함수]\n",
      "['테스트', '를', '위하', 'ㄴ', '문장', '으로', '띄', '어', '스', '기', '와', '맞추', 'ㄴ', '법', '이', '맞', '지', '않', '음'] \n",
      "\n",
      "[Okt 함수]\n",
      "['테스트', '를', '위', '한', '문장', '으로', '띄다', '어스', '기와', '맞추다', '법', '이', '맞다', '않다'] \n",
      "\n",
      "[Okt phrases 함수]\n",
      "['테스트', '문장', '어스기와', '어스기와 맞춘법', '어스', '기와'] \n",
      "\n",
      "[Komoran 함수]\n",
      "['테스트', '를', '위하', 'ㄴ', '문장', '으로', '띄어스기와', '맞추', 'ㄴ', '법', '이', '맞', '지', '않', '음'] \n",
      "\n",
      "[Hannanum 함수]\n",
      "['테스트를위한', '문장', '으로', '띄어스', '이', '기', '와', '맞추', 'ㄴ', '법', '이', '맞', '지', '않', '음']\n"
     ]
    }
   ],
   "source": [
    "#### .morphs()함수: 텍스트를 형태소 단위로 나누어준다.####\n",
    "print(\"[Kkma morphs 함수]\")\n",
    "print(kkma.morphs(text), '\\n')\n",
    "print(\"[Okt 함수]\")\n",
    "print(okt.morphs(text, norm=True, stem=True), '\\n')\n",
    "print(\"[Okt phrases 함수]\")\n",
    "print(okt.phrases(text), '\\n')\n",
    "print(\"[Komoran 함수]\")\n",
    "print(komoran.morphs(text), '\\n')\n",
    "print(\"[Hannanum 함수]\")\n",
    "print(hannanum.morphs(text))"
   ]
  },
  {
   "cell_type": "code",
   "execution_count": 15,
   "metadata": {},
   "outputs": [
    {
     "name": "stdout",
     "output_type": "stream",
     "text": [
      "[Kkma pos 함수]\n",
      "[('테스트', 'NNG'), ('를', 'JKO'), ('위하', 'VV'), ('ㄴ', 'ETD'), ('문장', 'NNG'), ('으로', 'JKM'), ('띄', 'VV'), ('어', 'ECD'), ('스', 'VV'), ('기', 'ETN'), ('와', 'JKM'), ('맞추', 'VV'), ('ㄴ', 'ETD'), ('법', 'NNG'), ('이', 'JKS'), ('맞', 'VV'), ('지', 'ECD'), ('않', 'VXV'), ('음', 'ETN')] \n",
      "\n",
      "[Okt pos 함수]\n",
      "[('테스트', 'Noun'), ('를', 'Josa'), ('위', 'Noun'), ('한', 'Josa'), ('문장', 'Noun'), ('으로', 'Josa'), ('띄', 'Verb'), ('어스', 'Noun'), ('기와', 'Noun'), ('맞춘', 'Verb'), ('법', 'Noun'), ('이', 'Josa'), ('맞지', 'Verb'), ('않음', 'Verb')] \n",
      "\n",
      "[Komoran pos 함수]\n",
      "[('테스트', 'NNP'), ('를', 'JKO'), ('위하', 'VV'), ('ㄴ', 'ETM'), ('문장', 'NNG'), ('으로', 'JKB'), ('띄어스기와', 'NA'), ('맞추', 'VV'), ('ㄴ', 'ETM'), ('법', 'NNB'), ('이', 'JKS'), ('맞', 'VV'), ('지', 'EC'), ('않', 'VX'), ('음', 'ETN')] \n",
      "\n",
      "[Hannanum pos 함수]\n",
      "[('테스트를위한', 'N'), ('문장', 'N'), ('으로', 'J'), ('띄어스', 'N'), ('이', 'J'), ('기', 'E'), ('와', 'J'), ('맞추', 'P'), ('ㄴ', 'E'), ('법', 'N'), ('이', 'J'), ('맞', 'P'), ('지', 'E'), ('않', 'P'), ('음', 'E')]\n"
     ]
    }
   ],
   "source": [
    "#### .pos()함수: 품사 태깅 #### \n",
    "print(\"[Kkma pos 함수]\")\n",
    "print(kkma.pos(text), '\\n') #join=True는 형태소와 품사를 붙여서 리스트화\n",
    "print(\"[Okt pos 함수]\")\n",
    "print(okt.pos(text), '\\n')\n",
    "print(\"[Komoran pos 함수]\")\n",
    "print(komoran.pos(text), '\\n')\n",
    "print(\"[Hannanum pos 함수]\")\n",
    "print(hannanum.pos(text))"
   ]
  },
  {
   "cell_type": "code",
   "execution_count": null,
   "metadata": {},
   "outputs": [],
   "source": []
  },
  {
   "cell_type": "code",
   "execution_count": null,
   "metadata": {},
   "outputs": [],
   "source": []
  },
  {
   "cell_type": "code",
   "execution_count": null,
   "metadata": {},
   "outputs": [],
   "source": []
  },
  {
   "cell_type": "code",
   "execution_count": null,
   "metadata": {},
   "outputs": [],
   "source": []
  },
  {
   "cell_type": "code",
   "execution_count": null,
   "metadata": {},
   "outputs": [],
   "source": []
  },
  {
   "cell_type": "code",
   "execution_count": null,
   "metadata": {},
   "outputs": [],
   "source": []
  },
  {
   "cell_type": "code",
   "execution_count": null,
   "metadata": {},
   "outputs": [],
   "source": []
  },
  {
   "cell_type": "code",
   "execution_count": null,
   "metadata": {},
   "outputs": [],
   "source": []
  }
 ],
 "metadata": {
  "kernelspec": {
   "display_name": "Python 3.8.13 ('base')",
   "language": "python",
   "name": "python3"
  },
  "language_info": {
   "codemirror_mode": {
    "name": "ipython",
    "version": 3
   },
   "file_extension": ".py",
   "mimetype": "text/x-python",
   "name": "python",
   "nbconvert_exporter": "python",
   "pygments_lexer": "ipython3",
   "version": "3.8.13"
  },
  "orig_nbformat": 4,
  "vscode": {
   "interpreter": {
    "hash": "a077222d77dfe082b8f1dd562ad70e458ac2ab76993a0b248ab0476e32e9e8dd"
   }
  }
 },
 "nbformat": 4,
 "nbformat_minor": 2
}
