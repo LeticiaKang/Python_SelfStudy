{
 "cells": [
  {
   "cell_type": "code",
   "execution_count": 17,
   "metadata": {},
   "outputs": [],
   "source": [
    "from selenium import webdriver\n",
    "from webdriver_manager.chrome import ChromeDriverManager\n",
    "from selenium.webdriver.common.action_chains import ActionChains\n",
    "from selenium.webdriver.common.keys import Keys #키보드\n",
    "import pandas as pd #엑셀화 판다스\n",
    "from bs4 import BeautifulSoup as bs\n",
    "import time\n",
    "import pyperclip\n"
   ]
  },
  {
   "cell_type": "code",
   "execution_count": 24,
   "metadata": {},
   "outputs": [
    {
     "ename": "AttributeError",
     "evalue": "'WebDriver' object has no attribute 'find_element_by_xpath'",
     "output_type": "error",
     "traceback": [
      "\u001b[1;31m---------------------------------------------------------------------------\u001b[0m",
      "\u001b[1;31mAttributeError\u001b[0m                            Traceback (most recent call last)",
      "Cell \u001b[1;32mIn [24], line 13\u001b[0m\n\u001b[0;32m     10\u001b[0m     driver\u001b[39m.\u001b[39mfind_element_by_xpath(ID)\u001b[39m.\u001b[39mclick()\n\u001b[0;32m     12\u001b[0m \u001b[39m# 아이디 및 비밀번호 입력\u001b[39;00m\n\u001b[1;32m---> 13\u001b[0m to_login(\u001b[39m'\u001b[39;49m\u001b[39m//*[@id=\u001b[39;49m\u001b[39m\"\u001b[39;49m\u001b[39mid\u001b[39;49m\u001b[39m\"\u001b[39;49m\u001b[39m]\u001b[39;49m\u001b[39m'\u001b[39;49m, \u001b[39m'\u001b[39;49m\u001b[39mdmswjd_14\u001b[39;49m\u001b[39m'\u001b[39;49m)\n\u001b[0;32m     14\u001b[0m driver\u001b[39m.\u001b[39mfind_element(\u001b[39m'\u001b[39m\u001b[39mid\u001b[39m\u001b[39m'\u001b[39m)\u001b[39m.\u001b[39msend_keys(Keys\u001b[39m.\u001b[39mCONTROL, \u001b[39m'\u001b[39m\u001b[39mv\u001b[39m\u001b[39m'\u001b[39m)\n\u001b[0;32m     15\u001b[0m time\u001b[39m.\u001b[39msleep(\u001b[39m1\u001b[39m)\n",
      "Cell \u001b[1;32mIn [24], line 10\u001b[0m, in \u001b[0;36mto_login\u001b[1;34m(ID, input)\u001b[0m\n\u001b[0;32m      8\u001b[0m \u001b[39mdef\u001b[39;00m \u001b[39mto_login\u001b[39m(ID, \u001b[39minput\u001b[39m):\n\u001b[0;32m      9\u001b[0m     pyperclip\u001b[39m.\u001b[39mcopy(\u001b[39minput\u001b[39m)\n\u001b[1;32m---> 10\u001b[0m     driver\u001b[39m.\u001b[39;49mfind_element_by_xpath(ID)\u001b[39m.\u001b[39mclick()\n",
      "\u001b[1;31mAttributeError\u001b[0m: 'WebDriver' object has no attribute 'find_element_by_xpath'"
     ]
    }
   ],
   "source": [
    "# driver = webdriver.Chrome()\n",
    "\n",
    "# #로그인을 시작페이지로 정함\n",
    "# driver.get(\"https://nid.naver.com/nidlogin.login\")\n",
    "# driver.maximize_window() #창 최대화\n",
    "# driver.implicitly_wait(2)\n",
    "\n",
    "# def to_login(ID, input):\n",
    "#     pyperclip.copy(input)\n",
    "#     driver.find_element_by_xpath(ID).click()\n",
    "    \n",
    "# # 아이디 및 비밀번호 입력\n",
    "# to_login('//*[@id=\"id\"]', 'dmswjd_14')\n",
    "# driver.find_element('id').send_keys(Keys.CONTROL, 'v')\n",
    "# time.sleep(1)\n",
    "\n",
    "# to_login('//*[@id=\"pw\"]', 'zmfhffld1004!')\n",
    "# driver.find_element_by_id('id').send_keys(Keys.CONTROL, 'v')\n",
    "# time.sleep(1)\n",
    "\n",
    "# driver.find_element_by_xpath('//*[@id=\"log.login\"]/span').click()\n",
    "\n",
    "\n",
    "dmswjd_14"
   ]
  },
  {
   "cell_type": "code",
   "execution_count": 27,
   "metadata": {},
   "outputs": [
    {
     "name": "stdout",
     "output_type": "stream",
     "text": [
      "Start\n"
     ]
    },
    {
     "name": "stderr",
     "output_type": "stream",
     "text": [
      "C:\\Users\\user\\AppData\\Local\\Temp\\ipykernel_19372\\1658340443.py:8: DeprecationWarning: executable_path has been deprecated, please pass in a Service object\n",
      "  browser = webdriver.Chrome(ChromeDriverManager().install()) # 현재파일과 동일한 경로일 경우 생략 가능\n"
     ]
    },
    {
     "name": "stdout",
     "output_type": "stream",
     "text": [
      "1. Chron Browser Open\n",
      "2. Naver \n",
      "3. Login Button Click \n"
     ]
    },
    {
     "ename": "AttributeError",
     "evalue": "'WebDriver' object has no attribute 'find_element_by_id'",
     "output_type": "error",
     "traceback": [
      "\u001b[1;31m---------------------------------------------------------------------------\u001b[0m",
      "\u001b[1;31mAttributeError\u001b[0m                            Traceback (most recent call last)",
      "Cell \u001b[1;32mIn [27], line 30\u001b[0m\n\u001b[0;32m     24\u001b[0m \u001b[39mprint\u001b[39m(\u001b[39m\"\u001b[39m\u001b[39m3. Login Button Click \u001b[39m\u001b[39m\"\u001b[39m)\n\u001b[0;32m     26\u001b[0m \u001b[39m# browser.find_element_by_id('id').send_keys('greenpia1225')\u001b[39;00m\n\u001b[0;32m     27\u001b[0m \u001b[39m# browser.find_element_by_id('pw').send_keys('@qwerasdf')\u001b[39;00m\n\u001b[0;32m     28\u001b[0m \n\u001b[0;32m     29\u001b[0m \u001b[39m# 3. id 복사 붙여넣기\u001b[39;00m\n\u001b[1;32m---> 30\u001b[0m elem_id \u001b[39m=\u001b[39m browser\u001b[39m.\u001b[39;49mfind_element_by_id(\u001b[39m'\u001b[39m\u001b[39mid\u001b[39m\u001b[39m'\u001b[39m)\n\u001b[0;32m     31\u001b[0m elem_id\u001b[39m.\u001b[39mclick()\n\u001b[0;32m     32\u001b[0m pyperclip\u001b[39m.\u001b[39mcopy(user_id)\n",
      "\u001b[1;31mAttributeError\u001b[0m: 'WebDriver' object has no attribute 'find_element_by_id'"
     ]
    }
   ],
   "source": [
    "from selenium.webdriver.common.keys import Keys\n",
    "from selenium import webdriver\n",
    "from selenium.webdriver.common.by import By\n",
    "import pyperclip\n",
    "import time \n",
    "\n",
    "print(\"Start\")\n",
    "browser = webdriver.Chrome(ChromeDriverManager().install()) # 현재파일과 동일한 경로일 경우 생략 가능\n",
    "# driver = webdriver.Chrome(ChromeDriverManager().install())\n",
    "print(\"1. Chron Browser Open\")\n",
    "#\n",
    "user_id = 'dmswjd_14'\n",
    "user_pw = 'zmfhffld1004!'\n",
    "\n",
    "\n",
    "# 1. 네이버 이동\n",
    "browser.get('http://naver.com')\n",
    "print(\"2. Naver \")\n",
    "\n",
    "# 2. 로그인 버튼 클릭\n",
    "# elem = browser.find_element_by_class_name('link_login')\n",
    "elem = browser.find_element(By.CLASS_NAME, 'link_login')\n",
    "elem.click()\n",
    "print(\"3. Login Button Click \")\n",
    "\n",
    "# browser.find_element_by_id('id').send_keys('greenpia1225')\n",
    "# browser.find_element_by_id('pw').send_keys('@qwerasdf')\n",
    "\n",
    "# 3. id 복사 붙여넣기\n",
    "elem_id = browser.find_element_by_id('id')\n",
    "elem_id.click()\n",
    "pyperclip.copy(user_id)\n",
    "elem_id.send_keys(Keys.CONTROL, 'v')\n",
    "time.sleep(1)\n",
    "\n",
    "# 4. pw 복사 붙여넣기\n",
    "elem_pw = browser.find_element_by_id('pw')\n",
    "elem_pw.click()\n",
    "pyperclip.copy(user_pw)\n",
    "elem_pw.send_keys(Keys.CONTROL, 'v')\n",
    "time.sleep(1)\n",
    "\n",
    "# 5. 로그인 버튼 클릭\n",
    "browser.find_element_by_id('log.login').click()\n",
    "\n",
    "# 6. html 정보 출력\n",
    "print(browser.page_source)\n",
    "\n",
    "# 7. 브라우저 종료\n",
    "# browser.close() # 현재 탭만 종료\n",
    "# browser.quit() # 전체 브라우저 종료"
   ]
  }
 ],
 "metadata": {
  "kernelspec": {
   "display_name": "Python 3.9.12 ('base')",
   "language": "python",
   "name": "python3"
  },
  "language_info": {
   "codemirror_mode": {
    "name": "ipython",
    "version": 3
   },
   "file_extension": ".py",
   "mimetype": "text/x-python",
   "name": "python",
   "nbconvert_exporter": "python",
   "pygments_lexer": "ipython3",
   "version": "3.9.12"
  },
  "orig_nbformat": 4,
  "vscode": {
   "interpreter": {
    "hash": "a077222d77dfe082b8f1dd562ad70e458ac2ab76993a0b248ab0476e32e9e8dd"
   }
  }
 },
 "nbformat": 4,
 "nbformat_minor": 2
}
