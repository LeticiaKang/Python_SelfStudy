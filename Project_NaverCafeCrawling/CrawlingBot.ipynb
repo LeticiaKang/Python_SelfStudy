{
 "cells": [
  {
   "cell_type": "code",
   "execution_count": 1,
   "metadata": {},
   "outputs": [],
   "source": []
  },
  {
   "cell_type": "code",
   "execution_count": 2,
   "metadata": {},
   "outputs": [],
   "source": [
    "driver = webdriver.Chrome(ChromeDriverManager().install())\n",
    "\n",
    "#페이지 이동\n",
    "def move(url):\n",
    "    driver.get(url)\n",
    "    driver.implicitly_wait(2)\n",
    "\n",
    "#로그인 입력\n",
    "def login(id, pw):\n",
    "    # 아이디 및 비밀번호 입력\n",
    "    pyperclip.copy(id)\n",
    "    driver.find_element(By.ID, \"id\").click()\n",
    "    driver.find_element(By.ID, \"id\").send_keys(Keys.CONTROL, 'v')\n",
    "    pyperclip.copy(pw)\n",
    "    driver.find_element(By.ID, 'pw').click()\n",
    "    driver.find_element(By.ID, 'pw').send_keys(Keys.CONTROL, 'v')\n",
    "    # 로그인 클릭   \n",
    "    driver.find_element(By.ID, 'log.login').click()\n",
    "    time.sleep(1)\n",
    "\n",
    "# def secondLogin():\n",
    "#     driver.find_element(By.ID, \"useotp\").click()\n",
    "#     number = input()\n",
    "#     pyperclip.copy(number)\n",
    "#     driver.find_element(By.ID, \"otp\").click()\n",
    "#     driver.find_element(By.ID, 'otp').send_keys(Keys.CONTROL, 'v')\n",
    "#     driver.find_element(By.XPATH, '//*[@id=\"direct_case\"]/button').click()\n",
    "        \n",
    "#카페 검색창에 검색\n",
    "def search(item):\n",
    "    pyperclip.copy(item)\n",
    "    search = driver.find_element(By.NAME, \"query\")\n",
    "    search.click()\n",
    "    search.send_keys(Keys.CONTROL, 'v')\n",
    "    driver.find_element(By.XPATH, '//*[@id=\"info-search\"]/form/button').click()\n",
    "    driver.implicitly_wait(5)\n",
    "\n",
    "#로그인을 시작페이지로 정함\n",
    "login_url = \"https://nid.naver.com/nidlogin.login\"\n",
    "move(login_url)\n",
    "\n",
    "# 로그인    \n",
    "login()\n",
    "time.sleep(5)\n",
    "\n",
    "# 카페로 이동하기\n",
    "cafe_url = 'https://cafe.naver.com/mygarden77'\n",
    "move(cafe_url)\n",
    "\n",
    "# 검색하기\n",
    "search(\"파종시기\")"
   ]
  },
  {
   "cell_type": "code",
   "execution_count": 3,
   "metadata": {},
   "outputs": [],
   "source": [
    "#카페 검색창에 검색\n",
    "\n",
    "    \n",
    "    # 검색하기\n",
    "search(\"2월 파종 작물\")\n"
   ]
  }
 ],
 "metadata": {
  "kernelspec": {
   "display_name": "Python 3.9.12 ('base')",
   "language": "python",
   "name": "python3"
  },
  "language_info": {
   "codemirror_mode": {
    "name": "ipython",
    "version": 3
   },
   "file_extension": ".py",
   "mimetype": "text/x-python",
   "name": "python",
   "nbconvert_exporter": "python",
   "pygments_lexer": "ipython3",
   "version": "3.9.12"
  },
  "orig_nbformat": 4,
  "vscode": {
   "interpreter": {
    "hash": "a077222d77dfe082b8f1dd562ad70e458ac2ab76993a0b248ab0476e32e9e8dd"
   }
  }
 },
 "nbformat": 4,
 "nbformat_minor": 2
}
