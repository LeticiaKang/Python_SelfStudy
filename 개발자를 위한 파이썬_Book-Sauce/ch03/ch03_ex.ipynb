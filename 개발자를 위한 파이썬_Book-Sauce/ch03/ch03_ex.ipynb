{
 "cells": [
  {
   "cell_type": "code",
   "execution_count": 1,
   "metadata": {},
   "outputs": [],
   "source": [
    "###추가내용\n",
    "# 변수 선언 '='"
   ]
  },
  {
   "cell_type": "code",
   "execution_count": 2,
   "metadata": {},
   "outputs": [
    {
     "name": "stdout",
     "output_type": "stream",
     "text": [
      "<class 'str'>\n",
      "<class 'bool'>\n",
      "<class 'float'>\n",
      "<class 'int'>\n",
      "<class 'list'>\n",
      "<class 'dict'>\n"
     ]
    }
   ],
   "source": [
    "diva = \"Song Hana\"\n",
    "is_she_play_to_win = True\n",
    "digital_diva = \"Hatsune Miku\"\n",
    "diva_version = 3.0\n",
    "how_many_diva = 2\n",
    "\n",
    "diva_list = [diva, digital_diva]\n",
    "new_challenger = {\n",
    "    \"name\":\"Miku\"\n",
    "}\n",
    "\n",
    "print(type(digital_diva))\n",
    "print(type(is_she_play_to_win))\n",
    "print(type(diva_version))\n",
    "print(type(how_many_diva))\n",
    "print(type(diva_list))\n",
    "print(type(new_challenger))"
   ]
  },
  {
   "cell_type": "code",
   "execution_count": 3,
   "metadata": {},
   "outputs": [],
   "source": [
    "###추가내용\n",
    "# 파이썬은 따로 변수의 형태를 지정하지 않아도 선언 가능"
   ]
  },
  {
   "cell_type": "code",
   "execution_count": 4,
   "metadata": {},
   "outputs": [
    {
     "name": "stdout",
     "output_type": "stream",
     "text": [
      "39\n",
      "-3\n",
      "99999999999999999999999999999999999999999999999999\n"
     ]
    }
   ],
   "source": [
    "# 정수\n",
    "# 큰 수라도 선언이 가능하다.\n",
    "\n",
    "i = 39\n",
    "i2 = -3\n",
    "biiiiig_int = 99999999999999999999999999999999999999999999999999\n",
    "\n",
    "print(i)\n",
    "print(i2)\n",
    "print(biiiiig_int)"
   ]
  },
  {
   "cell_type": "code",
   "execution_count": 5,
   "metadata": {},
   "outputs": [
    {
     "name": "stdout",
     "output_type": "stream",
     "text": [
      "0.9999\n",
      "3.141592\n",
      "-3.9\n",
      "0.3333333333333333\n",
      "\n",
      "\n"
     ]
    },
    {
     "data": {
      "text/plain": [
       "0"
      ]
     },
     "execution_count": 5,
     "metadata": {},
     "output_type": "execute_result"
    }
   ],
   "source": [
    "# 실수\n",
    "\n",
    "f = 0.9999\n",
    "f2 = 3.141592\n",
    "f3 = -3.9\n",
    "f4 = 3/9\n",
    "\n",
    "print(f)\n",
    "print(f2)\n",
    "print(f3)\n",
    "print(f4)\n",
    "\n",
    "import math\n",
    "print('\\n')\n",
    "math.trunc(f)\n",
    "\n"
   ]
  },
  {
   "cell_type": "code",
   "execution_count": null,
   "metadata": {},
   "outputs": [],
   "source": []
  },
  {
   "cell_type": "code",
   "execution_count": 6,
   "metadata": {},
   "outputs": [
    {
     "name": "stdout",
     "output_type": "stream",
     "text": [
      "● 정수 + 실수\n",
      "5.0\n",
      "● 정수 + bool\n",
      "3.5\n"
     ]
    }
   ],
   "source": [
    "###추가내용\n",
    "# 연산자\n",
    "# 더하기 +\n",
    "# 빼기 - \n",
    "# 곱하기 *\n",
    "# 나누기 / \n",
    "# 나누기 - 소숫점 버림 //\n",
    "# 나머지 %\n",
    "# 제곱 **\n",
    "\n",
    "# 정수와 실수를 더하면 실수로 표현됨\n",
    "print( '● 정수 + 실수')\n",
    "print( 3.0 + 2 )\n",
    "\n",
    "# 실수와 Bool형을 계산할 경우\n",
    "print( '● 정수 + bool')\n",
    "print( 2.5 + True )"
   ]
  },
  {
   "cell_type": "code",
   "execution_count": 7,
   "metadata": {},
   "outputs": [
    {
     "name": "stdout",
     "output_type": "stream",
     "text": [
      "##### + #####\n",
      "i1 + i2 :  978\n",
      "f1 + f2 :  5.173\n",
      "big_int1 + big_int2 :  1123456789123456789012345678901234567889\n",
      "i1 + f1 :  40.234\n",
      "##### - #####\n",
      "i1 - i2:  -900\n",
      "f1 - f2:  -2.705\n",
      "big_int1 - big_int2:  -876543210876543210987654321098765432109\n",
      "i1 - f1:  37.766\n",
      "##### * #####\n",
      "i1 * i2:  36621\n",
      "f1 * f2:  4.860726\n",
      "big_int1 * big_int2:  123456789123456789012345678901234567889876543210876543210987654321098765432110\n",
      "i1 * f1:  48.126\n",
      "##### / #####\n",
      "i2 / i1:  24.076923076923077\n",
      "f2 / f1:  3.1920583468395463\n",
      "big_int2 / big_int1:  8.10000006561\n",
      "i1 / f1:  31.60453808752026\n",
      "f1 / i1:  0.03164102564102564\n",
      "##### // #####\n",
      "i2 // i1:  24\n",
      "f2 // f1:  3.0\n",
      "big_int2 // big_int1:  8\n",
      "i1 // f1:  31.0\n",
      "f1 // i1:  0.0\n",
      "##### % #####\n",
      "i1 % i2 : 39\n",
      "f1 % f2 : 1.234\n",
      "big_int1 % big_int2 : 123456789123456789012345678901234567890\n",
      "i1 % f1 : 0.7460000000000004\n",
      "f1 % i1 : 1.234\n",
      "##### ** #####\n",
      "2 ** 3:  8\n",
      "i1 ** i2:  1022506312626635583804665030439848517886568042318083335883591278398438037288741990566558622100138406141643558158275024105444365536879201660885612644021445261444940742179797251796081892688027914559485473798772396512743732340523023151763660943751019131006308098788307144783696606939051578708338398053028367082638273189192434285150846461558297694776902793801564417306838969109663906055052907811614020360408193312813992026141346881644852197209917516412059364266098525652931099021885382041007793566316514615169179944928856384530132713368424697747100417896428655313414528755698998321671054850811102964679789653723028769348909103153993982582100515416669313157230956389993552417454656410560599758074525741542650281866589385696863929193963058181665847576483338830549810589782953329729597632595024734286078284939382833418335640042579137106857539338373422439805326922155940680240986288345037060969659512427144030964154102951713380645977336411938613440920613823685184818054548437463240254014958456975735050353322662241529452981520149054985517676452974236772432487364293991470964099037797636014730970362515008030368654913029567190786024079384496497756671771817107140203810333022334649590282423942722147721919738626342294242915008528804177851320976364543109216532895238412244610627773269723239459235317671518827568480961721312764409452089860018349101981333363883093727283973691806925736612803559125010274993787069849308224144485220613402198029509103574257814462424323830881877483524940133039777525461756147959\n",
      "f1 ** f2:  2.289235194260789\n",
      "i1 ** f1:  91.91231928197118\n",
      "f1 ** i1:  3641.5915127246435\n"
     ]
    }
   ],
   "source": [
    "i1 = 39\n",
    "i2 = 939\n",
    "big_int1 = 123456789123456789012345678901234567890\n",
    "big_int2 = 999999999999999999999999999999999999999\n",
    "f1 = 1.234\n",
    "f2 = 3.939\n",
    "\n",
    "# +\n",
    "print(\"##### + #####\")\n",
    "print(\"i1 + i2 : \", i1 + i2) # 정수끼리\n",
    "print(\"f1 + f2 : \", f1 + f2) # 실수끼리\n",
    "print(\"big_int1 + big_int2 : \", big_int1 + big_int2) #엄청 큰 수끼리\n",
    "print(\"i1 + f1 : \", i1 + f1) #실수와 정수끼리\n",
    "\n",
    "# -\n",
    "print(\"##### - #####\")\n",
    "print(\"i1 - i2: \", i1 - i2) # 정수끼리\n",
    "print(\"f1 - f2: \", f1 - f2) # 실수끼리\n",
    "print(\"big_int1 - big_int2: \", big_int1 - big_int2) #엄청 큰 수끼리\n",
    "print(\"i1 - f1: \", i1 - f1) #실수와 정수끼리\n",
    "\n",
    "# *\n",
    "print(\"##### * #####\")\n",
    "print(\"i1 * i2: \",i1 * i2) # 정수끼리\n",
    "print(\"f1 * f2: \",f1 * f2) # 실수끼리\n",
    "print(\"big_int1 * big_int2: \",big_int1 * big_int2) #엄청 큰 수끼리\n",
    "print(\"i1 * f1: \",i1 * f1) #실수와 정수끼리\n",
    "\n",
    "# /\n",
    "print(\"##### / #####\")\n",
    "print(\"i2 / i1: \", i2 / i1) # 정수끼리\n",
    "print(\"f2 / f1: \", f2 / f1) # 실수끼리\n",
    "print(\"big_int2 / big_int1: \", big_int2 / big_int1) #엄청 큰 수끼리\n",
    "print(\"i1 / f1: \", i1 / f1) #실수와 정수끼리\n",
    "print(\"f1 / i1: \", f1 / i1)\n",
    "\n",
    "# //\n",
    "print(\"##### // #####\")\n",
    "print(\"i2 // i1: \", i2 // i1) # 정수끼리\n",
    "print(\"f2 // f1: \", f2 // f1) # 실수끼리\n",
    "print(\"big_int2 // big_int1: \", big_int2 // big_int1) #엄청 큰 수끼리\n",
    "print(\"i1 // f1: \", i1 // f1) #실수와 정수끼리\n",
    "print(\"f1 // i1: \", f1 // i1)\n",
    "\n",
    "# %\n",
    "print(\"##### % #####\")\n",
    "print(\"i1 % i2 :\", i1 % i2) # 정수끼리\n",
    "print(\"f1 % f2 :\", f1 % f2) # 실수끼리\n",
    "print(\"big_int1 % big_int2 :\", big_int1 % big_int2) #엄청 큰 수끼리\n",
    "print(\"i1 % f1 :\", i1 % f1) #실수와 정수끼리\n",
    "print(\"f1 % i1 :\", f1 % i1)\n",
    "\n",
    "# **\n",
    "print(\"##### ** #####\")\n",
    "print(\"2 ** 3: \", 2 ** 3) # 2의 3승.\n",
    "print(\"i1 ** i2: \", i1 ** i2) # 정수끼리\n",
    "print(\"f1 ** f2: \", f1 ** f2) # 실수끼리\n",
    "print(\"i1 ** f1: \", i1 ** f1) #실수와 정수끼리\n",
    "print(\"f1 ** i1: \", f1 ** i1)"
   ]
  },
  {
   "cell_type": "code",
   "execution_count": 8,
   "metadata": {},
   "outputs": [
    {
     "name": "stdout",
     "output_type": "stream",
     "text": [
      "<class 'str'>\n",
      "<class 'str'>\n"
     ]
    }
   ],
   "source": [
    "# 파이썬에서 작은따옴표(')와 큰따옴표(\")는 차이가 없음\n",
    "\n",
    "diva = \"Miku\"\n",
    "another_diva = 'Song Hana'\n",
    "\n",
    "print(type(diva))\n",
    "print(type(another_diva))"
   ]
  },
  {
   "cell_type": "code",
   "execution_count": 9,
   "metadata": {},
   "outputs": [
    {
     "name": "stdout",
     "output_type": "stream",
     "text": [
      "This is \"double quote\"\n",
      "This isn't\n"
     ]
    }
   ],
   "source": [
    "escape_s1 = \"This is \\\"double quote\\\"\"\n",
    "escape_s2 = 'This isn\\'t'\n",
    "\n",
    "print (escape_s1)\n",
    "print(escape_s2)"
   ]
  },
  {
   "cell_type": "code",
   "execution_count": 10,
   "metadata": {},
   "outputs": [
    {
     "name": "stdout",
     "output_type": "stream",
     "text": [
      "Tab \tThis\n",
      "New Line\n",
      "Hello!\n"
     ]
    }
   ],
   "source": [
    "###추가내용\n",
    "# \\n : 줄바꿈\n",
    "# \\t : Tab\n",
    "\n",
    "s1 = \"Tab \\tThis\"\n",
    "s2 = \"New Line\\nHello!\"\n",
    "\n",
    "print(s1)\n",
    "print(s2)"
   ]
  },
  {
   "cell_type": "code",
   "execution_count": 11,
   "metadata": {},
   "outputs": [
    {
     "name": "stdout",
     "output_type": "stream",
     "text": [
      "C:\\Programs\\new program\\\"\n",
      "\\\\t\\n\\b\\s\n",
      "\\'\"\n",
      "\\\"'\n"
     ]
    }
   ],
   "source": [
    "raw_s1 = r'C:\\Programs\\new program\\\"'\n",
    "raw_s2 = r\"\\\\t\\n\\b\\s\"\n",
    "raw_s3 = r'\\'\"'\n",
    "raw_s4 = r\"\\\"'\"\n",
    "\n",
    "print(raw_s1)\n",
    "print(raw_s2)\n",
    "print(raw_s3)\n",
    "print(raw_s4)"
   ]
  },
  {
   "cell_type": "code",
   "execution_count": 12,
   "metadata": {},
   "outputs": [
    {
     "name": "stdout",
     "output_type": "stream",
     "text": [
      "이 문자열은\n",
      "멀티라인\n",
      "문자열입니다\n",
      "\n",
      "가나다라\n",
      "마바사아\n",
      "자차카\n"
     ]
    }
   ],
   "source": [
    "multi_s = \"\"\"이 문자열은\n",
    "멀티라인\n",
    "문자열입니다\"\"\"\n",
    "\n",
    "print(multi_s)\n",
    "\n",
    "Aa = \"\"\"\n",
    "가나다라\n",
    "마바사아\n",
    "자차카\"\"\"\n",
    "\n",
    "print(Aa)\n",
    "\n",
    "# 큰따옴표 3개를 사용하면 줄바꿈 그대로 표현"
   ]
  },
  {
   "cell_type": "code",
   "execution_count": 13,
   "metadata": {},
   "outputs": [
    {
     "name": "stdout",
     "output_type": "stream",
     "text": [
      "이 문자열 역시 멀티라인 문자열입니다.한 줄의 마지막에\n",
      "역슬래시를 붙이면\n",
      "줄바꿈이 되지 않습니다.\n",
      "\n"
     ]
    }
   ],
   "source": [
    "multi_s2 = '''이 문자열 역시 \\\n",
    "멀티라인 문자열입니다.\\\n",
    "한 줄의 마지막에\n",
    "역슬래시를 붙이면\n",
    "줄바꿈이 \\\n",
    "되지 않습니다.\n",
    "'''\n",
    "\n",
    "print(multi_s2)\n",
    "\n",
    "# 역슬래시는 줄바꿈을 없이 표현시킴"
   ]
  },
  {
   "cell_type": "code",
   "execution_count": 14,
   "metadata": {},
   "outputs": [
    {
     "name": "stdout",
     "output_type": "stream",
     "text": [
      "MikuMikuMiku\n",
      "HatsuneMiku\n"
     ]
    }
   ],
   "source": [
    "# 문자열끼리 덧셈이나 곱셈으로 표현가능\n",
    "\n",
    "dava = \"Miku\"\n",
    "first_sound = \"Hatsune\"\n",
    "\n",
    "print(3*diva)\n",
    "print(first_sound+diva)"
   ]
  },
  {
   "cell_type": "code",
   "execution_count": 15,
   "metadata": {},
   "outputs": [
    {
     "name": "stdout",
     "output_type": "stream",
     "text": [
      "8j\n",
      "2.0\n",
      "3\n",
      "12\n",
      "2.8284271247461903\n"
     ]
    }
   ],
   "source": [
    "X = abs(3)\n",
    "Y = abs(-12)\n",
    "Z = abs(2 + 2j)  #j는 복소수\n",
    "\n",
    "print((2 + 2j)**2)\n",
    "print(abs(2j))\n",
    "\n",
    "print(X)\n",
    "print(Y)\n",
    "print(Z)"
   ]
  },
  {
   "cell_type": "code",
   "execution_count": 16,
   "metadata": {},
   "outputs": [
    {
     "name": "stdout",
     "output_type": "stream",
     "text": [
      "['__add__', '__class__', '__contains__', '__delattr__', '__dir__', '__doc__', '__eq__', '__format__', '__ge__', '__getattribute__', '__getitem__', '__getnewargs__', '__gt__', '__hash__', '__init__', '__init_subclass__', '__iter__', '__le__', '__len__', '__lt__', '__mod__', '__mul__', '__ne__', '__new__', '__reduce__', '__reduce_ex__', '__repr__', '__rmod__', '__rmul__', '__setattr__', '__sizeof__', '__str__', '__subclasshook__', 'capitalize', 'casefold', 'center', 'count', 'encode', 'endswith', 'expandtabs', 'find', 'format', 'format_map', 'index', 'isalnum', 'isalpha', 'isascii', 'isdecimal', 'isdigit', 'isidentifier', 'islower', 'isnumeric', 'isprintable', 'isspace', 'istitle', 'isupper', 'join', 'ljust', 'lower', 'lstrip', 'maketrans', 'partition', 'replace', 'rfind', 'rindex', 'rjust', 'rpartition', 'rsplit', 'rstrip', 'split', 'splitlines', 'startswith', 'strip', 'swapcase', 'title', 'translate', 'upper', 'zfill'] \n",
      "\n",
      "Capitalize:  Miku \n",
      "\n",
      "is 'first_sound' end with 'e'?:  \n",
      " kagamineMikulenMikumehurine\n"
     ]
    }
   ],
   "source": [
    "diva = 'miku'\n",
    "\n",
    "print(dir(diva),'\\n')\n",
    "\n",
    "print(\"Capitalize: \", diva.capitalize(),'\\n')\n",
    "# capitalize : 맨 앞 문자를 대문자로 바꿈\n",
    "\n",
    "diva = diva.capitalize()\n",
    "print(\"is 'first_sound' end with 'e'?: \", '\\n', diva.join([\"kagamine\", \"len\", \"mehurine\"]))\n",
    "\n",
    "###추가내용\n",
    "# 콤마를 구분으로 diva(Miku) 넣어서 합쳐짐\n",
    "# join : 리스트 안에 문자열을 합침\n",
    "# 사용 형태 : '연결하고 싶은 문자' 혹은 변수.join(지정한 리스트)\n",
    "# 출력 결과 : 하나의 문자열로 표현 -> he is a man\n"
   ]
  },
  {
   "cell_type": "code",
   "execution_count": 17,
   "metadata": {},
   "outputs": [
    {
     "name": "stdout",
     "output_type": "stream",
     "text": [
      "[1, 2, 3]\n",
      "1\n",
      "1\n",
      "['a', 'b', 'c', 'diva']\n",
      "b\n",
      "['miku', 39]\n",
      "miku\n",
      "[[0, 1], [2, 3], [4, 5]]\n",
      "[4, 5]\n",
      "5\n"
     ]
    }
   ],
   "source": [
    "A1 = [1, 2, 3]\n",
    "A2 = [\"a\", \"b\", \"c\", \"diva\"]\n",
    "A3 = ['miku', 39]\n",
    "A4 = [[0, 1], [2, 3], [4, 5]]\n",
    "\n",
    "###추가내용\n",
    "# list[숫자] : 숫자에 해당하는 위치에 있는 값을 가져옴\n",
    "# 첫번째 : 0, 두번째 : 1, …\n",
    "# 맨 오른쪽 첫번째 : -1, 오른쪽 두번째 : -2,  …\n",
    "# 몇 번째인지 세지 않아도 가능\n",
    "\n",
    "\n",
    "print(A1)\n",
    "print(A1[0])\n",
    "print(A1[-3])\n",
    "print(A2)\n",
    "print(A2[1])\n",
    "print(A3)\n",
    "print(A3[0])\n",
    "print(A4)\n",
    "print(A4[2])  #위치 2에 해당하는 항목을 가져옴\n",
    "print(A4[2][1]) #위치 2에 해당하는 행렬 안에 위치 1에 해당하는 항목을 가져옴"
   ]
  },
  {
   "cell_type": "code",
   "execution_count": 18,
   "metadata": {},
   "outputs": [
    {
     "name": "stdout",
     "output_type": "stream",
     "text": [
      "['H', 'a', 't', 's', 'u', 'n', 'e', ' ', 'M', 'i', 'k', 'u']\n",
      "[1, 2, 3, 'a', 'b', 'c', 'diva', 'miku', 39]\n",
      "[[1, 2, 3], ['a', 'b', 'c', 'diva'], ['miku', 39]]\n"
     ]
    }
   ],
   "source": [
    "A5 = list('Hatsune Miku')\n",
    "# 위에서 생성한 리스트를 이용해 새로 리스트를 생성합니다.\n",
    "# list('문자열') -> [철자 하나하나로 리스트 생성]\n",
    "\n",
    "A6 = list(A1+A2+A3)\n",
    "# 리스트 안에 요소를 모두 합친다.\n",
    "\n",
    "A7 = [A1, A2, A3]\n",
    "#리스트 안에 리스트 자체를 요소로 가진다.\n",
    "\n",
    "print(A5)\n",
    "print(A6)\n",
    "print(A7)"
   ]
  },
  {
   "cell_type": "code",
   "execution_count": 19,
   "metadata": {},
   "outputs": [
    {
     "name": "stdout",
     "output_type": "stream",
     "text": [
      "A5 =  [0, 1, 2, 3, 4, 5]\n",
      "A5[-1] =  5\n",
      "A5[-2] =  4\n",
      "A5[-6] =  0\n"
     ]
    }
   ],
   "source": [
    "#음수 인덱스 가능\n",
    "\n",
    "A5 = [ 0, 1, 2, 3, 4, 5]\n",
    "#      0  1  2  3  4  5\n",
    "#     -6 -5 -4 -3 -2 -1\n",
    "\n",
    "print(\"A5 = \", A5)\n",
    "print(\"A5[-1] = \", A5[-1])\n",
    "print(\"A5[-2] = \", A5[-2])\n",
    "print(\"A5[-6] = \", A5[-6])\n",
    "\n",
    "# print(\"A5[-7] = \", A5[-7]  -> 에러"
   ]
  },
  {
   "cell_type": "code",
   "execution_count": 20,
   "metadata": {},
   "outputs": [
    {
     "name": "stdout",
     "output_type": "stream",
     "text": [
      "A1 + A2 =  [1, 2, 3, 4, 5, 6]\n",
      "A1 * 3 = [1, 2, 3, 1, 2, 3, 1, 2, 3]\n"
     ]
    }
   ],
   "source": [
    "#List 연산\n",
    "\n",
    "A1 = [1, 2, 3]\n",
    "A2 = [4, 5, 6]\n",
    "\n",
    "print(\"A1 + A2 = \", A1 + A2)  #덧셈(+) : List안에 요소가 모두 함해서 표현됨\n",
    "print(\"A1 * 3 =\", A1 * 3)     #곱셈(*) : 요소들 전체가 n번 반복됨"
   ]
  },
  {
   "cell_type": "code",
   "execution_count": 21,
   "metadata": {},
   "outputs": [
    {
     "name": "stdout",
     "output_type": "stream",
     "text": [
      "l1 =  [0, 1, 2, 3, 4, 5, 6, 7, 8, 9, 10, 11, 12, 13, 14, 15, 16, 17, 18, 19]\n",
      "l1[9:] =  [9, 10, 11, 12, 13, 14, 15, 16, 17, 18, 19]\n",
      "*9번째 인덱스는 포함 \n",
      "\n",
      "l1[:15] =  [0, 1, 2, 3, 4, 5, 6, 7, 8, 9, 10, 11, 12, 13, 14]\n",
      "*15번째 인덱스는 포함 안함 \n",
      "\n",
      "l1[::2] =  [0, 2, 4, 6, 8, 10, 12, 14, 16, 18]\n",
      "*0번째, 2번째, 4번째,,, \n",
      "\n",
      "l1[::7] =  [0, 7, 14]\n",
      "*0번째, 7번째, 14번째 \n",
      "\n",
      "l1[5::2] =  [5, 7, 9, 11, 13, 15, 17, 19]\n",
      "*5번째, 7번째, 9번째,,,19번째 \n",
      "\n",
      "l1[:17:4] =  [0, 4, 8, 12, 16]\n",
      "*0번째, 4번째, 8번째,,, 16번째 \n",
      "\n",
      "l1[7:15:3] =  [7, 10, 13]\n",
      "*7번째, 10번째, 13번째 \n",
      "\n"
     ]
    }
   ],
   "source": [
    "l1 = [0, 1, 2, 3, 4, 5, 6, 7, 8, 9, 10, 11, 12, 13, 14, 15, 16, 17, 18, 19]\n",
    "\n",
    "print(\"l1 = \", l1)\n",
    "\n",
    "# list[start:stop:step]\n",
    "# list[start:]\n",
    "# list[:stop]\n",
    "# list[::step] n번째마다 건너뛰어 가져오기\n",
    "# list[start:stop]\n",
    "# list[start::step]\n",
    "# list[:stop:step]\n",
    "\n",
    "# 9번째 인덱스 이후만 가져오기.\n",
    "print(\"l1[9:] = \", l1[9:])\n",
    "print(\"*9번째 인덱스는 포함\",'\\n')\n",
    "\n",
    "# 15번째 인덱스 이전만 가져오기.  \n",
    "print(\"l1[:15] = \", l1[:15])\n",
    "print(\"*15번째 인덱스는 포함 안함\", '\\n')\n",
    "\n",
    "# 2번째마다의 아이템을 가져오기.\n",
    "print(\"l1[::2] = \", l1[::2])\n",
    "print(\"*0번째, 2번째, 4번째,,,\", '\\n')\n",
    "\n",
    "# 7번째마다의 아이템을 가져오기.\n",
    "print(\"l1[::7] = \", l1[::7])\n",
    "print(\"*0번째, 7번째, 14번째\", '\\n')\n",
    "\n",
    "# 5번째부터 시작해서 2번째마다 아이템을 가져오기.\n",
    "print(\"l1[5::2] = \", l1[5::2])\n",
    "print(\"*5번째, 7번째, 9번째,,,19번째\", '\\n')\n",
    "\n",
    "# 17번째 이전까지 매 4번째마다 아이템을 가져오기.\n",
    "print(\"l1[:17:4] = \", l1[:17:4])\n",
    "print(\"*0번째, 4번째, 8번째,,, 16번째\", '\\n')\n",
    "\n",
    "# 7번째부터 15번째까지 3번째마다 아이템을 가져오기. \n",
    "print(\"l1[7:15:3] = \", l1[7:15:3])\n",
    "print(\"*7번째, 10번째, 13번째\", '\\n')\n"
   ]
  },
  {
   "cell_type": "code",
   "execution_count": 22,
   "metadata": {},
   "outputs": [
    {
     "name": "stdout",
     "output_type": "stream",
     "text": [
      "s1 = Hatsune Miku\n",
      "s1[2] = t \n",
      "\n",
      "s1[8] = M\n",
      "s1[8:] = Miku \n",
      "\n",
      "s1[-4:] = Miku\n",
      "s1[:7] = Hatsune\n",
      "띄어쓰기는 인덱스에 포함X \n",
      "\n",
      "s1[::2] = HtueMk\n"
     ]
    }
   ],
   "source": [
    "s1 = \"Hatsune Miku\"\n",
    "\n",
    "print(\"s1 =\", s1)\n",
    "\n",
    "print(\"s1[2] =\", s1[2], '\\n')\n",
    "print(\"s1[8] =\",s1[8])\n",
    "print(\"s1[8:] =\", s1[8:], '\\n')\n",
    "print(\"s1[-4:] =\", s1[-4:])\n",
    "print(\"s1[:7] =\", s1[:7])\n",
    "print(\"띄어쓰기는 인덱스에 포함X\", '\\n')\n",
    "print(\"s1[::2] =\", s1[::2])"
   ]
  },
  {
   "cell_type": "code",
   "execution_count": 23,
   "metadata": {},
   "outputs": [],
   "source": [
    "###추가내용\n",
    "# dict (딕셔너리) \n",
    "# 중괄호({})안에 콤마(,)로 구분된 key:value 를 가진다\n",
    "# key에 문자열은 ' ' 필요"
   ]
  },
  {
   "cell_type": "code",
   "execution_count": 24,
   "metadata": {},
   "outputs": [
    {
     "name": "stdout",
     "output_type": "stream",
     "text": [
      "3.8.8 (default, Apr 13 2021, 15:08:03) [MSC v.1916 64 bit (AMD64)]\n"
     ]
    }
   ],
   "source": [
    "import sys\n",
    "print(sys.version)"
   ]
  },
  {
   "cell_type": "code",
   "execution_count": 25,
   "metadata": {},
   "outputs": [
    {
     "data": {
      "text/plain": [
       "{'one': 1, 'two': 2, 'three': 3, 'four': 4}"
      ]
     },
     "execution_count": 25,
     "metadata": {},
     "output_type": "execute_result"
    }
   ],
   "source": [
    "EX_1 = { 'one' : 1, \n",
    "        'two' : 2,\n",
    "        'three' : 3,\n",
    "        'four' : 4}\n",
    "EX_1  #이건 왜 출력 안됨?\n"
   ]
  },
  {
   "cell_type": "code",
   "execution_count": 26,
   "metadata": {},
   "outputs": [
    {
     "data": {
      "text/plain": [
       "1"
      ]
     },
     "execution_count": 26,
     "metadata": {},
     "output_type": "execute_result"
    }
   ],
   "source": [
    "EX_1['one']"
   ]
  },
  {
   "cell_type": "code",
   "execution_count": 27,
   "metadata": {},
   "outputs": [
    {
     "data": {
      "text/plain": [
       "{'one': 'first', 'two': 2, 'three': 3, 'four': 4}"
      ]
     },
     "execution_count": 27,
     "metadata": {},
     "output_type": "execute_result"
    }
   ],
   "source": [
    "EX_1['one'] = 'first'  #one에 대한 value를 'frist'로 바꾼다\n",
    "EX_1"
   ]
  },
  {
   "cell_type": "code",
   "execution_count": 28,
   "metadata": {},
   "outputs": [
    {
     "data": {
      "text/plain": [
       "{'one': 'first', 'two': 2, 'three': 3, 'four': 4, 'five': 5}"
      ]
     },
     "execution_count": 28,
     "metadata": {},
     "output_type": "execute_result"
    }
   ],
   "source": [
    "EX_1['five'] = 5  # 딕셔너리에 없는 key, value를 입력해서 항목을 추가할 수 있음\n",
    "EX_1  # 'five' : 5 가 추가 됨"
   ]
  },
  {
   "cell_type": "code",
   "execution_count": 29,
   "metadata": {},
   "outputs": [
    {
     "name": "stdout",
     "output_type": "stream",
     "text": [
      "{'one': 1, 'two': 2, 'three': 3, 'four': 4, 'five': 5}\n",
      "{'one': 1, 'two': 2, 'three': 3, 'four': 4, 'five': 'what is next number?'}\n"
     ]
    }
   ],
   "source": [
    "# update() : 하나의 딕셔너리에 다른 딕셔너리 항목을 합침\n",
    "# 사용형태 : d_1.update(d_2)\n",
    "# 출력형태 : {d_1의 요소, d_2의 요소}\n",
    "\n",
    "d_1 = {'one': 1, 'two': 2, 'three': 3}\n",
    "d_2 = {'four': 4, 'five': 5}\n",
    "\n",
    "d_1.update(d_2)  #굳이 하나씩 d_1[four] = 4, d_1[five] = 5 할 필요가 없음\n",
    "\n",
    "print(d_1)\n",
    "\n",
    "# 만약에 Key값이 같다면 두번째 딕셔너리를 따른다.\n",
    "\n",
    "d_3 = { 'five' : 'what is next number?' }\n",
    "d_1.update(d_3)\n",
    "\n",
    "print(d_1)  # five : 5가 아닌 d_3에 있는 항목을 따름\n"
   ]
  },
  {
   "cell_type": "code",
   "execution_count": 30,
   "metadata": {},
   "outputs": [
    {
     "name": "stdout",
     "output_type": "stream",
     "text": [
      "{'one': 1, 'two': 2, 'three': 3, 'four': 4}\n",
      "{}\n"
     ]
    }
   ],
   "source": [
    "# del : key로 항목 삭제하기\n",
    "# 사용형태 : del d_1['KEY']\n",
    "\n",
    "del d_1['five']\n",
    "print(d_1)    \n",
    "\n",
    "# clear : 모든 항목 삭제\n",
    "# 사용형태 : d_1.clear()\n",
    "\n",
    "d_1.clear()\n",
    "print(d_1)"
   ]
  },
  {
   "cell_type": "code",
   "execution_count": 31,
   "metadata": {},
   "outputs": [
    {
     "name": "stdout",
     "output_type": "stream",
     "text": [
      "False\n",
      "True\n",
      "True \n",
      "\n",
      "4\n",
      "None\n",
      "없어요 \n",
      "\n",
      "dict_keys(['one', 'two', 'three', 'four'])\n",
      "['one', 'two', 'three', 'four'] \n",
      "\n",
      "dict_values([1, 2, 3, 4])\n",
      "[1, 2, 3, 4] \n",
      "\n",
      "dict_items([('one', 1), ('two', 2), ('three', 3), ('four', 4)])\n",
      "[('one', 1), ('two', 2), ('three', 3), ('four', 4)]\n"
     ]
    }
   ],
   "source": [
    "# in, not in, get\n",
    "\n",
    "# 딕셔너리 안에 있는지, 없는지 확인 -> bool형으로 결과 출력\n",
    "\n",
    "d_1 = {'one': 1, 'two': 2, 'three': 3, 'four': 4} \n",
    "\n",
    "print('five' in d_1)\n",
    "print('four' in d_1)\n",
    "print('five' not in d_1, '\\n')\n",
    "\n",
    "# get을 이용해서 key가 있으면 value를 찾아주고 없으면 자동으로 없다고 표현하게 할 수 있음\n",
    "\n",
    "print(d_1.get('four'))\n",
    "print(d_1.get('five'))\n",
    "print(d_1.get('five', '없어요'), '\\n')\n",
    "\n",
    "# keys() : 딕셔너리의 모든 Key를 가져온다.\n",
    "print(d_1.keys())\n",
    "print(list(d_1.keys()), '\\n')\n",
    "\n",
    "# values() : 모든 value를 가져옴.\n",
    "print(d_1.values())\n",
    "print(list(d_1.values()), '\\n')\n",
    "\n",
    "#items() : 모든 쌍의 Key와 value를 Tuple 형태로 가져옴.\n",
    "print(d_1.items())\n",
    "print(list(d_1.items()))"
   ]
  },
  {
   "cell_type": "code",
   "execution_count": 32,
   "metadata": {},
   "outputs": [],
   "source": [
    "###추가내용 끝"
   ]
  },
  {
   "cell_type": "code",
   "execution_count": 33,
   "metadata": {},
   "outputs": [
    {
     "name": "stdout",
     "output_type": "stream",
     "text": [
      "Yes! This is True!!!\n",
      "Nope\n",
      "Yes! This is True!!!\n",
      "Nope \n",
      "\n",
      "Miku\n",
      "Hatsune\n",
      "Miku \n",
      "\n",
      "Song Hana\n"
     ]
    }
   ],
   "source": [
    "d1 = {\n",
    "    True:\"Yes! This is True!!!\",\n",
    "    False:\"Nope\",\n",
    "    39:\"Miku\",\n",
    "    39.39:\"Hatsune\",\n",
    "    \"Diva\":\"Song Hana\",\n",
    "    }\n",
    "\n",
    "# True and False\n",
    "print(d1[True])\n",
    "print(d1[False])\n",
    "print(d1[1 > 0])    # 1 > 0 → True\n",
    "print(d1[-1 > 0], '\\n')   # -1 > 0 → False\n",
    "\n",
    "# numbers\n",
    "miku = 39\n",
    "print(d1[39])\n",
    "print(d1[39.39])\n",
    "print(d1[miku], '\\n')\n",
    "\n",
    "# String\n",
    "print(d1[\"Diva\"])"
   ]
  },
  {
   "cell_type": "code",
   "execution_count": 34,
   "metadata": {},
   "outputs": [
    {
     "name": "stdout",
     "output_type": "stream",
     "text": [
      "{'on': 999, 'off': 100, 'l': [1, 2, 3], 's': 'miku'}\n"
     ]
    }
   ],
   "source": [
    "d2 = dict(on=999, off=100, l=[1, 2, 3], s=\"miku\")\n",
    "# dict()를 이용해서 딕셔너리를 만드는 경우\n",
    "# Key는 문자열만 사용해야 함\n",
    "\n",
    "print(d2)"
   ]
  },
  {
   "cell_type": "code",
   "execution_count": 35,
   "metadata": {},
   "outputs": [],
   "source": [
    "### 추가 내용\n",
    "# set : value를 버리고 key만 남은 딕셔너리\n",
    "# 어떤 것이 존재하는지 여부만 판단하기위해서는 셋을 사용하고\n",
    "# 키에 어떤 정보를 첨부해서 그 결과를 얻고 싶으면 딕셔너리를 이용"
   ]
  },
  {
   "cell_type": "code",
   "execution_count": 36,
   "metadata": {},
   "outputs": [
    {
     "name": "stdout",
     "output_type": "stream",
     "text": [
      "{'a', 'n', 'e', 't', 'l', 's', 'h', 'o', 'u'}\n",
      "{'i', 'e', 'l', 'k', 'm', 'o', 'u', 'v'}\n",
      "{'S', 'n', 'a', ' ', 'g', 'h', 'o'}\n",
      "# 중복된 a, n은 한 개씩만 들어감 #\n"
     ]
    }
   ],
   "source": [
    "set1 = {\"h\", \"e\", \"l\", \"l\", \"o\", \"h\", \"a\", \"t\", \"s\", \"u\", \"n\", \"e\"}\n",
    "set2 = {\"m\", \"i\", \"k\", \"u\", \"l\", \"o\", \"v\", \"e\"}\n",
    "set3 = set(\"Song hana\")  \n",
    "\n",
    "print(set1)\n",
    "print(set2)\n",
    "print(set3)\n",
    "print('# 중복된 a, n은 한 개씩만 들어감 #')"
   ]
  },
  {
   "cell_type": "code",
   "execution_count": 37,
   "metadata": {},
   "outputs": [
    {
     "name": "stdout",
     "output_type": "stream",
     "text": [
      "# 교집합( & )(intersection)\n",
      "{'o', 'e', 'l', 'u'}\n",
      "{'o', 'e', 'l', 'u'} \n",
      "\n",
      "# 합집합( | )(union)\n",
      "{'a', 'n', 'e', 'i', 't', 'l', 's', 'h', 'k', 'm', 'o', 'u', 'v'}\n",
      "{'a', 'n', 'e', 'i', 't', 'l', 's', 'h', 'k', 'm', 'o', 'u', 'v'} \n",
      "\n",
      "# 차집합( - )(difference)\n",
      "{'a', 'n', 't', 's', 'h'}\n",
      "{'a', 'n', 't', 's', 'h'} \n",
      "\n"
     ]
    }
   ],
   "source": [
    "print('# 교집합( & )(intersection)')\n",
    "print(set1 & set2)\n",
    "print(set1.intersection(set2), '\\n')\n",
    "\n",
    "print('# 합집합( | )(union)')\n",
    "print(set1 | set2)\n",
    "print(set1.union(set2), '\\n')\n",
    "\n",
    "print('# 차집합( - )(difference)')\n",
    "print(set1 - set2)\n",
    "print(set1.difference(set2), '\\n')"
   ]
  },
  {
   "cell_type": "code",
   "execution_count": 38,
   "metadata": {},
   "outputs": [
    {
     "name": "stdout",
     "output_type": "stream",
     "text": [
      "(5, 6, 7, 8, 9)\n",
      "5\n",
      "(8, 9)\n",
      "(5, 6)\n"
     ]
    }
   ],
   "source": [
    "# Tuple\n",
    "\n",
    "t1 = (5, 6, 7, 8, 9)\n",
    "\n",
    "print(t1)\n",
    "print(t1[0])\n",
    "print(t1[3:])\n",
    "print(t1[:2])"
   ]
  },
  {
   "cell_type": "code",
   "execution_count": 39,
   "metadata": {},
   "outputs": [
    {
     "ename": "TypeError",
     "evalue": "'tuple' object does not support item assignment",
     "output_type": "error",
     "traceback": [
      "\u001b[1;31m---------------------------------------------------------------------------\u001b[0m",
      "\u001b[1;31mTypeError\u001b[0m                                 Traceback (most recent call last)",
      "\u001b[1;32m<ipython-input-39-d5963426c4dd>\u001b[0m in \u001b[0;36m<module>\u001b[1;34m\u001b[0m\n\u001b[1;32m----> 1\u001b[1;33m \u001b[0mt1\u001b[0m\u001b[1;33m[\u001b[0m\u001b[1;36m0\u001b[0m\u001b[1;33m]\u001b[0m \u001b[1;33m=\u001b[0m \u001b[1;36m1\u001b[0m\u001b[1;33m\u001b[0m\u001b[1;33m\u001b[0m\u001b[0m\n\u001b[0m\u001b[0;32m      2\u001b[0m \u001b[1;31m# 변경이 불가함\u001b[0m\u001b[1;33m\u001b[0m\u001b[1;33m\u001b[0m\u001b[1;33m\u001b[0m\u001b[0m\n",
      "\u001b[1;31mTypeError\u001b[0m: 'tuple' object does not support item assignment"
     ]
    }
   ],
   "source": [
    "t1[0] = 1\n",
    "# 변경이 불가함"
   ]
  },
  {
   "cell_type": "code",
   "execution_count": null,
   "metadata": {},
   "outputs": [],
   "source": [
    "### 추가 공부"
   ]
  },
  {
   "cell_type": "code",
   "execution_count": null,
   "metadata": {},
   "outputs": [],
   "source": [
    "drink = {\n",
    "    '소주' : {'참이슬' , '후레쉬', '한라산'},\n",
    "    '맥주' : {'카스', '칭따오', '하이트', '하이네켄'},\n",
    "    '막걸리' : {'해창' , '느린마을'},\n",
    "    '양주' : {'잭다니엘' , 'xo'}\n",
    "}\n",
    "\n",
    "for name, contents in drink.items():\n",
    "    if '맥주' in contents:\n",
    "        print(name)"
   ]
  },
  {
   "cell_type": "code",
   "execution_count": null,
   "metadata": {},
   "outputs": [],
   "source": []
  },
  {
   "cell_type": "code",
   "execution_count": null,
   "metadata": {},
   "outputs": [],
   "source": []
  }
 ],
 "metadata": {
  "kernelspec": {
   "display_name": "Python 3",
   "language": "python",
   "name": "python3"
  },
  "language_info": {
   "codemirror_mode": {
    "name": "ipython",
    "version": 3
   },
   "file_extension": ".py",
   "mimetype": "text/x-python",
   "name": "python",
   "nbconvert_exporter": "python",
   "pygments_lexer": "ipython3",
   "version": "3.8.8"
  }
 },
 "nbformat": 4,
 "nbformat_minor": 4
}
