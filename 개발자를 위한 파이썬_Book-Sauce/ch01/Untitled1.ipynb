{
 "cells": [
  {
   "cell_type": "code",
   "execution_count": 3,
   "id": "17740e19-36a2-4bfb-a12c-880188bef5c7",
   "metadata": {},
   "outputs": [
    {
     "data": {
      "text/plain": [
       "'cp949'"
      ]
     },
     "execution_count": 3,
     "metadata": {},
     "output_type": "execute_result"
    }
   ],
   "source": [
    "import sys\n",
    "sys.stdin.encoding"
   ]
  },
  {
   "cell_type": "code",
   "execution_count": 2,
   "id": "16f224f1-3afb-4496-b714-6f52959ba3f6",
   "metadata": {},
   "outputs": [
    {
     "data": {
      "text/plain": [
       "'UTF-8'"
      ]
     },
     "execution_count": 2,
     "metadata": {},
     "output_type": "execute_result"
    }
   ],
   "source": [
    "sys.stdout.encoding"
   ]
  },
  {
   "cell_type": "code",
   "execution_count": 4,
   "id": "4257f951-db8e-408c-b374-f031c8d912c3",
   "metadata": {},
   "outputs": [
    {
     "data": {
      "text/plain": [
       "3"
      ]
     },
     "execution_count": 4,
     "metadata": {},
     "output_type": "execute_result"
    }
   ],
   "source": [
    "a = 13\n",
    "a //= 4\n",
    "a"
   ]
  },
  {
   "cell_type": "code",
   "execution_count": 5,
   "id": "bdb489b6-db8e-446e-a272-20c55a109266",
   "metadata": {},
   "outputs": [
    {
     "data": {
      "text/plain": [
       "float"
      ]
     },
     "execution_count": 5,
     "metadata": {},
     "output_type": "execute_result"
    }
   ],
   "source": [
    "type(98.6)"
   ]
  },
  {
   "cell_type": "code",
   "execution_count": 6,
   "id": "81092282-ac46-453e-a5c9-fbfaec26a5f9",
   "metadata": {},
   "outputs": [
    {
     "data": {
      "text/plain": [
       "str"
      ]
     },
     "execution_count": 6,
     "metadata": {},
     "output_type": "execute_result"
    }
   ],
   "source": [
    "type('98.6')"
   ]
  },
  {
   "cell_type": "code",
   "execution_count": 7,
   "id": "52eeca26-cf80-4a24-94d3-f97d73e20c23",
   "metadata": {},
   "outputs": [
    {
     "name": "stdout",
     "output_type": "stream",
     "text": [
      "99 bottles would be enough\n"
     ]
    }
   ],
   "source": [
    "print(99, 'bottles', 'would be enough')"
   ]
  },
  {
   "cell_type": "code",
   "execution_count": 17,
   "id": "691b182e-abc2-4c80-a02a-1f464caa7285",
   "metadata": {},
   "outputs": [
    {
     "data": {
      "text/plain": [
       "' current inventory : 99'"
      ]
     },
     "execution_count": 17,
     "metadata": {},
     "output_type": "execute_result"
    }
   ],
   "source": [
    "bottles = 99\n",
    "base = ' '\n",
    "base += 'current inventory : '\n",
    "base += str(bottles)\n",
    "base"
   ]
  },
  {
   "cell_type": "code",
   "execution_count": 18,
   "id": "6a9ee701-d5f6-4fad-8117-a874494c9c06",
   "metadata": {},
   "outputs": [
    {
     "name": "stdout",
     "output_type": "stream",
     "text": [
      " current inventory : 99\n"
     ]
    }
   ],
   "source": [
    "\n",
    "print(base)"
   ]
  },
  {
   "cell_type": "code",
   "execution_count": 19,
   "id": "952feb79-d57c-4db7-b455-652a80a912d2",
   "metadata": {},
   "outputs": [
    {
     "data": {
      "text/plain": [
       "'99'"
      ]
     },
     "execution_count": 19,
     "metadata": {},
     "output_type": "execute_result"
    }
   ],
   "source": [
    "str(bottles)"
   ]
  },
  {
   "cell_type": "code",
   "execution_count": 20,
   "id": "dd7ee448-5e9a-4008-9449-aa6c988e3d78",
   "metadata": {},
   "outputs": [
    {
     "name": "stdout",
     "output_type": "stream",
     "text": [
      "A man, \n",
      "A plan, \n",
      "A canal : \n",
      "Panama\n"
     ]
    }
   ],
   "source": [
    "palindrome = 'A man, \\nA plan, \\nA canal : \\nPanama'\n",
    "print(palindrome)"
   ]
  },
  {
   "cell_type": "code",
   "execution_count": 24,
   "id": "52394a64-308b-40d0-82fb-4881b8253852",
   "metadata": {},
   "outputs": [
    {
     "name": "stdout",
     "output_type": "stream",
     "text": [
      "\tabcd \tefg\n"
     ]
    }
   ],
   "source": [
    "print('\\tabcd \\tefg')"
   ]
  },
  {
   "cell_type": "code",
   "execution_count": 26,
   "id": "5f5ce9b8-2a23-4371-b287-c398f2c80e25",
   "metadata": {},
   "outputs": [
    {
     "name": "stdout",
     "output_type": "stream",
     "text": [
      "Na Na Na Na \n",
      "Na Na Na Na \n",
      "Hey Hey Hey \n",
      "Goodbye.\n"
     ]
    }
   ],
   "source": [
    "start = 'Na ' * 4 + '\\n'\n",
    "middle = 'Hey ' * 3 + '\\n'\n",
    "end = 'Goodbye.'\n",
    "\n",
    "print(start + start + middle + end)"
   ]
  },
  {
   "cell_type": "code",
   "execution_count": 34,
   "id": "c7b119e5-4425-44a2-a40b-1e252a35c188",
   "metadata": {},
   "outputs": [
    {
     "name": "stdout",
     "output_type": "stream",
     "text": [
      "a cat is cute.\n"
     ]
    }
   ],
   "source": [
    "A = ['a', 'cat', 'is', 'cute.']\n",
    "B = ' '.join(A)\n",
    "print(B)"
   ]
  },
  {
   "cell_type": "code",
   "execution_count": 36,
   "id": "2fea9945-789f-4516-86da-8f9164740349",
   "metadata": {},
   "outputs": [
    {
     "ename": "SyntaxError",
     "evalue": "invalid syntax (<ipython-input-36-6c1fa1f9bcc8>, line 1)",
     "output_type": "error",
     "traceback": [
      "\u001b[1;36m  File \u001b[1;32m\"<ipython-input-36-6c1fa1f9bcc8>\"\u001b[1;36m, line \u001b[1;32m1\u001b[0m\n\u001b[1;33m    1min = 60sec\u001b[0m\n\u001b[1;37m     ^\u001b[0m\n\u001b[1;31mSyntaxError\u001b[0m\u001b[1;31m:\u001b[0m invalid syntax\n"
     ]
    }
   ],
   "source": [
    "1min = 60sec\n",
    "1hour = (60 * 60)sec"
   ]
  },
  {
   "cell_type": "markdown",
   "id": "5217810d-9455-4315-9bb2-eacadc1476b3",
   "metadata": {},
   "source": [
    "60 * 60"
   ]
  },
  {
   "cell_type": "code",
   "execution_count": 37,
   "id": "b519ee0d-541b-4826-82b2-93d0e838378f",
   "metadata": {},
   "outputs": [
    {
     "data": {
      "text/plain": [
       "3600"
      ]
     },
     "execution_count": 37,
     "metadata": {},
     "output_type": "execute_result"
    }
   ],
   "source": [
    "60 * 60"
   ]
  },
  {
   "cell_type": "code",
   "execution_count": 38,
   "id": "dbe7cb5b-a83b-40ef-8ec4-a762cd316ad2",
   "metadata": {},
   "outputs": [],
   "source": [
    "seconds_per_hour = 3600"
   ]
  },
  {
   "cell_type": "code",
   "execution_count": 42,
   "id": "a9477e96-c559-449b-b125-e8e606db9590",
   "metadata": {},
   "outputs": [
    {
     "name": "stdout",
     "output_type": "stream",
     "text": [
      "86400\n"
     ]
    }
   ],
   "source": [
    "seconds_per_day = seconds_per_hour * 24\n",
    "\n",
    "print(seconds_per_day)"
   ]
  },
  {
   "cell_type": "code",
   "execution_count": 43,
   "id": "c164538a-2333-41da-9298-e5c7bf7fc350",
   "metadata": {},
   "outputs": [
    {
     "data": {
      "text/plain": [
       "24.0"
      ]
     },
     "execution_count": 43,
     "metadata": {},
     "output_type": "execute_result"
    }
   ],
   "source": [
    "seconds_per_day / seconds_per_hour"
   ]
  },
  {
   "cell_type": "code",
   "execution_count": null,
   "id": "f8b7eee5-3244-4111-9ee4-46f91cf5bc0c",
   "metadata": {},
   "outputs": [],
   "source": [
    "seconds_per_day / seconds_per_hour"
   ]
  }
 ],
 "metadata": {
  "kernelspec": {
   "display_name": "Python 3",
   "language": "python",
   "name": "python3"
  },
  "language_info": {
   "codemirror_mode": {
    "name": "ipython",
    "version": 3
   },
   "file_extension": ".py",
   "mimetype": "text/x-python",
   "name": "python",
   "nbconvert_exporter": "python",
   "pygments_lexer": "ipython3",
   "version": "3.8.8"
  }
 },
 "nbformat": 4,
 "nbformat_minor": 5
}
